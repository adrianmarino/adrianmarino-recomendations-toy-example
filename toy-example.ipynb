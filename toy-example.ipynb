{
 "cells": [
  {
   "cell_type": "markdown",
   "metadata": {},
   "source": [
    "# Products Recomendation Example"
   ]
  },
  {
   "cell_type": "code",
   "execution_count": 2,
   "metadata": {},
   "outputs": [],
   "source": [
    "%%capture\n",
    "%load_ext autoreload\n",
    "%autoreload 2"
   ]
  },
  {
   "cell_type": "code",
   "execution_count": 3,
   "metadata": {},
   "outputs": [],
   "source": [
    "from src.repository import DatabaseClient, to_table, \\\n",
    "    CityRepository, CountryRepository, RegionRepository, UserRepository, \\\n",
    "    City, Country, Region, User\n",
    "\n",
    "from src.entity_loader import EntityLoader, \\\n",
    "    CityMapper, RegionMapper, UserMapper, CountryMapper, \\\n",
    "    CountryFilter, CityFilter"
   ]
  },
  {
   "cell_type": "markdown",
   "metadata": {},
   "source": [
    "### Prepare data access"
   ]
  },
  {
   "cell_type": "markdown",
   "metadata": {},
   "source": [
    "1. Create database client:"
   ]
  },
  {
   "cell_type": "code",
   "execution_count": 4,
   "metadata": {},
   "outputs": [],
   "source": [
    "USERNAME = \"neo4j\"\n",
    "PASSWORD = USERNAME\n",
    "URL = \"bolt://localhost:7687\"\n",
    "\n",
    "client = DatabaseClient(URL, USERNAME, PASSWORD)"
   ]
  },
  {
   "cell_type": "markdown",
   "metadata": {},
   "source": [
    "2. Create repositories:"
   ]
  },
  {
   "cell_type": "code",
   "execution_count": 5,
   "metadata": {},
   "outputs": [],
   "source": [
    "cityRepository = CityRepository(client)\n",
    "\n",
    "countryRepository = CountryRepository(client)\n",
    "\n",
    "regionRepository = RegionRepository(client)\n",
    "\n",
    "userRepository = UserRepository(client)"
   ]
  },
  {
   "cell_type": "markdown",
   "metadata": {},
   "source": [
    "### Prepare database"
   ]
  },
  {
   "cell_type": "markdown",
   "metadata": {},
   "source": [
    "1. Remove all nodes"
   ]
  },
  {
   "cell_type": "code",
   "execution_count": 6,
   "metadata": {},
   "outputs": [
    {
     "data": {
      "text/plain": [
       "<neo4j.work.result.Result at 0x7fa249db97f0>"
      ]
     },
     "execution_count": 6,
     "metadata": {},
     "output_type": "execute_result"
    }
   ],
   "source": [
    "# client.run(\"MATCH (n:City) DETACH DELETE n\")\n",
    "client.run(\"MATCH (n:User) DETACH DELETE n\")\n",
    "client.run(\"MATCH (n:Country) DETACH DELETE n\")\n",
    "client.run(\"MATCH (n:Region) DETACH DELETE n\")\n",
    "client.run(\"MATCH (n:Persons) DETACH DELETE n\")\n",
    "client.run(\"MATCH (n:ProductSearch) DETACH DELETE n\")\n",
    "client.run(\"MATCH (n:Purchase) DETACH DELETE n\")\n",
    "client.run(\"MATCH (n:ProductReservation) DETACH DELETE n\")"
   ]
  },
  {
   "cell_type": "markdown",
   "metadata": {},
   "source": [
    "2. Load cities"
   ]
  },
  {
   "cell_type": "code",
   "execution_count": 7,
   "metadata": {},
   "outputs": [
    {
     "data": {
      "text/plain": [
       "120342"
      ]
     },
     "execution_count": 7,
     "metadata": {},
     "output_type": "execute_result"
    }
   ],
   "source": [
    "cities = list(EntityLoader.load_filter_map('database/cities.json', CityFilter(), CityMapper()))\n",
    "len(cities)"
   ]
  },
  {
   "cell_type": "code",
   "execution_count": 8,
   "metadata": {},
   "outputs": [],
   "source": [
    "# cityRepository.upsert(cities)"
   ]
  },
  {
   "cell_type": "markdown",
   "metadata": {},
   "source": [
    "3. Load countries"
   ]
  },
  {
   "cell_type": "code",
   "execution_count": 9,
   "metadata": {},
   "outputs": [
    {
     "data": {
      "text/plain": [
       "199"
      ]
     },
     "execution_count": 9,
     "metadata": {},
     "output_type": "execute_result"
    }
   ],
   "source": [
    "countries = list(EntityLoader.load_filter_map('database/countries.json', CountryFilter(), CountryMapper()))\n",
    "len(countries)"
   ]
  },
  {
   "cell_type": "code",
   "execution_count": 10,
   "metadata": {},
   "outputs": [
    {
     "data": {
      "application/vnd.jupyter.widget-view+json": {
       "model_id": "8afc1b5e2052486f9a68d8599383bc93",
       "version_major": 2,
       "version_minor": 0
      },
      "text/plain": [
       "HBox(children=(FloatProgress(value=0.0, max=199.0), HTML(value='')))"
      ]
     },
     "metadata": {},
     "output_type": "display_data"
    },
    {
     "name": "stdout",
     "output_type": "stream",
     "text": [
      "\n"
     ]
    }
   ],
   "source": [
    "countryRepository.upsert(countries)"
   ]
  },
  {
   "cell_type": "markdown",
   "metadata": {},
   "source": [
    "4. Load global regions"
   ]
  },
  {
   "cell_type": "code",
   "execution_count": 11,
   "metadata": {},
   "outputs": [
    {
     "data": {
      "text/plain": [
       "7"
      ]
     },
     "execution_count": 11,
     "metadata": {},
     "output_type": "execute_result"
    }
   ],
   "source": [
    "regions = list(EntityLoader.load_map('database/regions.json', RegionMapper()))\n",
    "len(regions)"
   ]
  },
  {
   "cell_type": "code",
   "execution_count": 12,
   "metadata": {},
   "outputs": [
    {
     "data": {
      "application/vnd.jupyter.widget-view+json": {
       "model_id": "b7dc33a3f0474340b5ec52e81e1bc91c",
       "version_major": 2,
       "version_minor": 0
      },
      "text/plain": [
       "HBox(children=(FloatProgress(value=0.0, max=7.0), HTML(value='')))"
      ]
     },
     "metadata": {},
     "output_type": "display_data"
    },
    {
     "name": "stdout",
     "output_type": "stream",
     "text": [
      "\n"
     ]
    }
   ],
   "source": [
    "regionRepository.upsert(regions)"
   ]
  },
  {
   "cell_type": "markdown",
   "metadata": {},
   "source": [
    "5. Load users"
   ]
  },
  {
   "cell_type": "code",
   "execution_count": 13,
   "metadata": {},
   "outputs": [
    {
     "data": {
      "text/plain": [
       "7"
      ]
     },
     "execution_count": 13,
     "metadata": {},
     "output_type": "execute_result"
    }
   ],
   "source": [
    "users = list(EntityLoader.load_map('database/users.json', UserMapper()))\n",
    "len(users)"
   ]
  },
  {
   "cell_type": "code",
   "execution_count": 14,
   "metadata": {},
   "outputs": [
    {
     "data": {
      "text/plain": [
       "User(id=1, email='adrian.marino@almundo.com', realm='ALMUNDO-ALMUNDO-EMPLOYEE')"
      ]
     },
     "execution_count": 14,
     "metadata": {},
     "output_type": "execute_result"
    }
   ],
   "source": [
    "users[0]"
   ]
  },
  {
   "cell_type": "code",
   "execution_count": 15,
   "metadata": {},
   "outputs": [
    {
     "data": {
      "application/vnd.jupyter.widget-view+json": {
       "model_id": "03c09c7c2eb1414e89990f39f3f0d695",
       "version_major": 2,
       "version_minor": 0
      },
      "text/plain": [
       "HBox(children=(FloatProgress(value=0.0, max=7.0), HTML(value='')))"
      ]
     },
     "metadata": {},
     "output_type": "display_data"
    },
    {
     "name": "stdout",
     "output_type": "stream",
     "text": [
      "\n"
     ]
    }
   ],
   "source": [
    "userRepository.upsert(users)"
   ]
  },
  {
   "cell_type": "markdown",
   "metadata": {},
   "source": [
    "8. Add citiy belong to country relation"
   ]
  },
  {
   "cell_type": "code",
   "execution_count": 16,
   "metadata": {},
   "outputs": [],
   "source": [
    "def city_belong_to_country(relation):\n",
    "    client.run(\"\"\"\n",
    "        MATCH\n",
    "            (city: City {iata_code: \"%s\"}),\n",
    "            (country: Country {code: \"%s\"})\n",
    "        WITH\n",
    "            city,\n",
    "            country\n",
    "        MERGE\n",
    "            (city)-[:BELONG_TO]->(country)\n",
    "    \"\"\" %(relation['city'],relation['country'])\n",
    ")"
   ]
  },
  {
   "cell_type": "code",
   "execution_count": 17,
   "metadata": {},
   "outputs": [
    {
     "data": {
      "text/plain": [
       "7"
      ]
     },
     "execution_count": 17,
     "metadata": {},
     "output_type": "execute_result"
    }
   ],
   "source": [
    "city_country = list(EntityLoader.load('database/city-country.json'))\n",
    "len(city_country)"
   ]
  },
  {
   "cell_type": "code",
   "execution_count": 18,
   "metadata": {},
   "outputs": [
    {
     "data": {
      "text/plain": [
       "[None, None, None, None, None, None, None]"
      ]
     },
     "execution_count": 18,
     "metadata": {},
     "output_type": "execute_result"
    }
   ],
   "source": [
    "[city_belong_to_country(relation) for relation in city_country]"
   ]
  },
  {
   "cell_type": "markdown",
   "metadata": {},
   "source": [
    "9. Add country belong to region relation"
   ]
  },
  {
   "cell_type": "code",
   "execution_count": 19,
   "metadata": {},
   "outputs": [],
   "source": [
    "def country_belong_to_region(relation):\n",
    "    client.run(\"\"\"\n",
    "        MATCH\n",
    "            (country: Country {code: \"%s\"}),\n",
    "            (region: Region {code: \"%s\"})\n",
    "        WITH\n",
    "            country,\n",
    "            region\n",
    "        MERGE\n",
    "            (country)-[:BELONG_TO]->(region)\n",
    "    \"\"\" %(relation['country'],relation['region'])\n",
    ")"
   ]
  },
  {
   "cell_type": "code",
   "execution_count": 20,
   "metadata": {},
   "outputs": [
    {
     "data": {
      "text/plain": [
       "8"
      ]
     },
     "execution_count": 20,
     "metadata": {},
     "output_type": "execute_result"
    }
   ],
   "source": [
    "country_region = list(EntityLoader.load('database/country-region.json'))\n",
    "len(country_region)"
   ]
  },
  {
   "cell_type": "code",
   "execution_count": 24,
   "metadata": {},
   "outputs": [
    {
     "data": {
      "text/plain": [
       "[None, None, None, None, None, None, None, None]"
      ]
     },
     "execution_count": 24,
     "metadata": {},
     "output_type": "execute_result"
    }
   ],
   "source": [
    "[country_belong_to_region(relation) for relation in country_region]"
   ]
  },
  {
   "cell_type": "markdown",
   "metadata": {},
   "source": [
    "10. Create products searches"
   ]
  },
  {
   "cell_type": "code",
   "execution_count": 25,
   "metadata": {},
   "outputs": [
    {
     "data": {
      "text/plain": [
       "<neo4j.work.result.Result at 0x7fa21d0da8b0>"
      ]
     },
     "execution_count": 25,
     "metadata": {},
     "output_type": "execute_result"
    }
   ],
   "source": [
    "client.run(\"\"\"\n",
    "MATCH\n",
    "    (BUE: City {iata_code: \"BUE\"}), \n",
    "    (MIA: City {iata_code: \"MIA\"}),\n",
    "    (adrian: User {email: \"adrian.marino@almundo.com\"})\n",
    "WITH\n",
    "    BUE, MIA, adrian\n",
    "CREATE\n",
    "    (search1:ProductSearch {\n",
    "        product_type: 'FLIGHT',\n",
    "        from: datetime(\"2021-01-01T20:00:0\"),\n",
    "        to: datetime(\"2021-01-15T20:00:0\")\n",
    "    }),\n",
    "    (search1)-[:FROM_LOCATION]->(BUE), (search1)-[:TO_LOCATION]->(MIA),\n",
    "    (search1)-[:FOR]->(:Persons{adults:2, children: 2, infants: 1}),\n",
    "    (adrian)-[:SEARCHED {datetime: datetime(\"2020-08-15T20:00:00\")}]->(search1)\n",
    "\"\"\")"
   ]
  },
  {
   "cell_type": "code",
   "execution_count": 26,
   "metadata": {},
   "outputs": [
    {
     "data": {
      "text/plain": [
       "<neo4j.work.result.Result at 0x7fa21cf9b310>"
      ]
     },
     "execution_count": 26,
     "metadata": {},
     "output_type": "execute_result"
    }
   ],
   "source": [
    "client.run(\"\"\"\n",
    "MATCH\n",
    "    (BUE: City {iata_code: \"BUE\"}),\n",
    "    (BCN: City {iata_code: \"BCN\"}),\n",
    "    (adrian: User {email: \"adrian.marino@almundo.com\"})\n",
    "WITH\n",
    "    BUE, BCN, adrian\n",
    "CREATE\n",
    "    (search2:ProductSearch {\n",
    "        product_type: 'FLIGHT',\n",
    "        from: datetime(\"2021-01-01T20:00:0\"),\n",
    "        to: datetime(\"2021-01-15T20:00:0\")\n",
    "    }),\n",
    "    (search2)-[:FROM_LOCATION]->(BUE), (search2)-[:TO_LOCATION]->(BCN),\n",
    "    (search2)-[:FOR]->(:Persons{adults:2, children: 2, infants: 1}),\n",
    "    (adrian)-[:SEARCHED{datetime:datetime(\"2020-08-15T20:10:00\")}]->(search2)\n",
    "\n",
    "\"\"\")"
   ]
  },
  {
   "cell_type": "code",
   "execution_count": 27,
   "metadata": {},
   "outputs": [
    {
     "data": {
      "text/plain": [
       "<neo4j.work.result.Result at 0x7fa21cea1940>"
      ]
     },
     "execution_count": 27,
     "metadata": {},
     "output_type": "execute_result"
    }
   ],
   "source": [
    "client.run(\"\"\"\n",
    "MATCH\n",
    "    (MIA: City {iata_code: \"MIA\"}),\n",
    "    (adrian: User {email: \"adrian.marino@almundo.com\"})\n",
    "WITH\n",
    "    MIA, adrian\n",
    "CREATE\n",
    "    (search3: ProductSearch {\n",
    "        product_type: 'HOTEL',\n",
    "        from: datetime(\"2021-01-01T20:00:0\"),\n",
    "        to: datetime(\"2021-01-15T20:00:0\")\n",
    "    }),\n",
    "    (search3)-[:IN_LOCATION]->(MIA),\n",
    "    (search3)-[:FOR]->(:Persons {adults:2, children: 2, infants: 1}),\n",
    "    (adrian)-[:SEARCHED{datetime:datetime(\"2020-08-15T22:00:00\")}]->(search3)\n",
    "\"\"\")"
   ]
  },
  {
   "cell_type": "code",
   "execution_count": 28,
   "metadata": {},
   "outputs": [
    {
     "data": {
      "text/plain": [
       "<neo4j.work.result.Result at 0x7fa21cbef220>"
      ]
     },
     "execution_count": 28,
     "metadata": {},
     "output_type": "execute_result"
    }
   ],
   "source": [
    "client.run(\"\"\"\n",
    "MATCH\n",
    "    (BCN: City {iata_code: \"BCN\"}),\n",
    "    (adrian: User {email: \"adrian.marino@almundo.com\"})\n",
    "WITH\n",
    "    BCN, adrian\n",
    "CREATE\n",
    "    (search4: ProductSearch {\n",
    "        product_type: 'HOTEL',\n",
    "        from: datetime(\"2021-01-01T20:00:0\"),\n",
    "        to: datetime(\"2021-01-15T20:00:0\")\n",
    "    }),\n",
    "    (search4)-[:LOCATION]->(BCN),\n",
    "    (search4)-[:FOR]->(:Persons {adults:2, children: 2, infants: 1}),\n",
    "    (adrian)-[:SEARCHED{datetime:datetime(\"2020-08-15T22:00:00\")}]->(search4)\n",
    "\"\"\")"
   ]
  },
  {
   "cell_type": "code",
   "execution_count": 29,
   "metadata": {},
   "outputs": [
    {
     "data": {
      "text/plain": [
       "<neo4j.work.result.Result at 0x7fa21cbef7c0>"
      ]
     },
     "execution_count": 29,
     "metadata": {},
     "output_type": "execute_result"
    }
   ],
   "source": [
    "client.run(\"\"\"\n",
    "MATCH\n",
    "    (COR: City {iata_code: \"COR\"}),\n",
    "    (SLA: City {iata_code: \"SLA\"}),\n",
    "    (juanManuel {email: \"juanmanuel.bouvier@almundo.com\"})\n",
    "WITH\n",
    "    COR, SLA, juanManuel\n",
    "CREATE\n",
    "    (search5:ProductSearch {\n",
    "        product_type: 'FLIGHT',\n",
    "        from: datetime(\"2021-01-01T20:00:0\"),\n",
    "        to: datetime(\"2021-01-15T20:00:0\")\n",
    "    }),\n",
    "    (search5)-[:FROM_LOCATION]->(COR), \n",
    "    (search5)-[:TO_LOCATION]->(SLA),\n",
    "    (search5)-[:FOR]->(:Persons{adults:2}),\n",
    "    (juanManuel)-[:SEARCHED {datetime: datetime(\"2020-08-15T20:00:00\")}]->(search5)\n",
    "\n",
    "\"\"\")"
   ]
  },
  {
   "cell_type": "code",
   "execution_count": 30,
   "metadata": {},
   "outputs": [
    {
     "data": {
      "text/plain": [
       "<neo4j.work.result.Result at 0x7fa21cf863a0>"
      ]
     },
     "execution_count": 30,
     "metadata": {},
     "output_type": "execute_result"
    }
   ],
   "source": [
    "client.run(\"\"\"\n",
    "MATCH \n",
    "    (COR: City {iata_code: \"COR\"}),\n",
    "    (SLA: City {iata_code: \"SLA\"}),\n",
    "    (juanManuel {email: \"juanmanuel.bouvier@almundo.com\"})\n",
    "WITH\n",
    "    COR, SLA, juanManuel\n",
    "CREATE\n",
    "    (search6:ProductSearch {\n",
    "        product_type: 'FLIGHT',\n",
    "        from: datetime(\"2021-01-01T20:00:0\"),\n",
    "        to: datetime(\"2021-01-15T20:00:0\")\n",
    "    }),\n",
    "    (search6)-[:FROM_LOCATION]->(COR),\n",
    "    (search6)-[:TO_LOCATION]->(SLA),\n",
    "    (search6)-[:FOR]->(:Persons{adults:2}),\n",
    "    (juanManuel)-[:SEARCHED {datetime: datetime(\"2020-08-15T21:00:00\")}]->(search6)\n",
    "\n",
    "\"\"\")"
   ]
  },
  {
   "cell_type": "code",
   "execution_count": 31,
   "metadata": {},
   "outputs": [
    {
     "data": {
      "text/plain": [
       "<neo4j.work.result.Result at 0x7fa21cc042e0>"
      ]
     },
     "execution_count": 31,
     "metadata": {},
     "output_type": "execute_result"
    }
   ],
   "source": [
    "client.run(\"\"\"\n",
    "MATCH\n",
    "    (BUE: City {iata_code: \"BUE\"}),\n",
    "    (BHD: City {iata_code: \"RIO\"}),\n",
    "    (sofia: User {email: \"sofia.massobrio@almundo.com\"})\n",
    "WITH\n",
    "    BUE, BHD, sofia\n",
    "CREATE\n",
    "    (search7:ProductSearch {\n",
    "        product_type: 'FLIGHT',\n",
    "        from: datetime(\"2021-01-01T20:00:0\"),\n",
    "        to: datetime(\"2021-01-15T20:00:0\")\n",
    "    }),\n",
    "    (search7)-[:FROM_LOCATION]->(BUE),\n",
    "    (search7)-[:TO_LOCATION]->(BHD),\n",
    "    (search7)-[:FOR]->(:Persons{adults:2}),\n",
    "    (sofia)-[:SEARCHED {datetime: datetime(\"2020-08-15T21:00:00\")}]->(search7)\n",
    "\"\"\")"
   ]
  },
  {
   "cell_type": "code",
   "execution_count": 32,
   "metadata": {},
   "outputs": [
    {
     "data": {
      "text/plain": [
       "<neo4j.work.result.Result at 0x7fa21cea13a0>"
      ]
     },
     "execution_count": 32,
     "metadata": {},
     "output_type": "execute_result"
    }
   ],
   "source": [
    "client.run(\"\"\"\n",
    "MATCH\n",
    "    (BUE: City {iata_code: \"BUE\"}), \n",
    "    (BHD: City {iata_code: \"RIO\"}),\n",
    "    (sofia: User {email: \"sofia.massobrio@almundo.com\"})\n",
    "WITH\n",
    "    BUE, BHD, sofia\n",
    "CREATE\n",
    "    (search8:ProductSearch {\n",
    "        product_type: 'FLIGHT',\n",
    "        from: datetime(\"2021-01-01T20:00:0\"),\n",
    "        to: datetime(\"2021-01-15T20:00:0\")\n",
    "    }),\n",
    "    (search8)-[:FROM_LOCATION]->(BHD),\n",
    "    (search8)-[:TO_LOCATION]->(BUE),\n",
    "    (search8)-[:FOR]->(:Persons{adults:2}),\n",
    "    (sofia)-[:SEARCHED {datetime: datetime(\"2020-08-15T21:00:00\")}]->(search8)\n",
    "\"\"\")"
   ]
  },
  {
   "cell_type": "code",
   "execution_count": 33,
   "metadata": {},
   "outputs": [
    {
     "data": {
      "text/plain": [
       "<neo4j.work.result.Result at 0x7fa21cf92400>"
      ]
     },
     "execution_count": 33,
     "metadata": {},
     "output_type": "execute_result"
    }
   ],
   "source": [
    "client.run(\"\"\"\n",
    "MATCH\n",
    "    (BUE: City {iata_code: \"BUE\"}),\n",
    "    (MIA: City {iata_code: \"MIA\"}),\n",
    "    (sofia: User {email: \"sofia.massobrio@almundo.com\"})\n",
    "WITH\n",
    "    BUE, MIA, sofia\n",
    "CREATE\n",
    "    (search9:ProductSearch {\n",
    "        product_type: 'FLIGHT',\n",
    "        from: datetime(\"2021-01-01T20:00:0\"),\n",
    "        to: datetime(\"2021-01-15T20:00:0\")\n",
    "    }),\n",
    "    (search9)-[:FROM_LOCATION]->(BUE), \n",
    "    (search9)-[:TO_LOCATION]->(MIA),\n",
    "    (search9)-[:FOR]->(:Persons{adults:2}),\n",
    "    (sofia)-[:SEARCHED {datetime: datetime(\"2020-08-15T21:00:00\")}]->(search9)\n",
    "\"\"\")"
   ]
  },
  {
   "cell_type": "code",
   "execution_count": 34,
   "metadata": {},
   "outputs": [
    {
     "data": {
      "text/plain": [
       "<neo4j.work.result.Result at 0x7fa21cea6d30>"
      ]
     },
     "execution_count": 34,
     "metadata": {},
     "output_type": "execute_result"
    }
   ],
   "source": [
    "client.run(\"\"\"\n",
    "MATCH\n",
    "    (COL: City {iata_code: \"COL\"}),\n",
    "    (SLA: City {iata_code: \"SLA\"}),\n",
    "    (sofia: User {email: \"sofia.massobrio@almundo.com\"})\n",
    "WITH\n",
    "    COL, SLA, sofia\n",
    "CREATE\n",
    "    (search10:ProductSearch {\n",
    "        product_type: 'FLIGHT',\n",
    "        from: datetime(\"2021-01-01T20:00:0\"),\n",
    "        to: datetime(\"2021-01-15T20:00:0\")\n",
    "    }),\n",
    "    (search10)-[:FROM_LOCATION]->(SLA), (search10)-[:TO_LOCATION]->(COL),\n",
    "    (search10)-[:FOR]->(:Persons{adults:2}),\n",
    "    (sofia)-[:SEARCHED {datetime: datetime(\"2020-08-15T21:00:00\")}]->(search10)\n",
    "\"\"\")"
   ]
  },
  {
   "cell_type": "code",
   "execution_count": 35,
   "metadata": {},
   "outputs": [
    {
     "data": {
      "text/plain": [
       "<neo4j.work.result.Result at 0x7fa21cea6190>"
      ]
     },
     "execution_count": 35,
     "metadata": {},
     "output_type": "execute_result"
    }
   ],
   "source": [
    "client.run(\"\"\"\n",
    "MATCH\n",
    "    (COR: City {iata_code: \"COR\"}),\n",
    "    (SLA: City {iata_code: \"SLA\"}),\n",
    "    (kevo: User {email: \"kevin.klaus@almundo.com\"})\n",
    "WITH\n",
    "    COR, SLA, kevo\n",
    "CREATE\n",
    "    (search11:ProductSearch {\n",
    "        product_type: 'FLIGHT',\n",
    "        from: datetime(\"2021-01-01T20:00:0\"),\n",
    "        to: datetime(\"2021-01-15T20:00:0\")\n",
    "    }),\n",
    "    (search11)-[:FROM_LOCATION]->(COR), (search11)-[:TO_LOCATION]->(SLA),\n",
    "    (search11)-[:FOR]->(:Persons{adults:2}),\n",
    "    (kevo)-[:SEARCHED {datetime: datetime(\"2020-08-15T21:00:00\")}]->(search11)\n",
    "\"\"\")"
   ]
  },
  {
   "cell_type": "code",
   "execution_count": 36,
   "metadata": {},
   "outputs": [
    {
     "data": {
      "text/plain": [
       "<neo4j.work.result.Result at 0x7fa21cea6370>"
      ]
     },
     "execution_count": 36,
     "metadata": {},
     "output_type": "execute_result"
    }
   ],
   "source": [
    "client.run(\"\"\"\n",
    "MATCH\n",
    "    (BUE: City {iata_code: \"BUE\"}),\n",
    "    (MIA: City {iata_code: \"MIA\"}),\n",
    "    (kevo: User {email: \"kevin.klaus@almundo.com\"})\n",
    "WITH\n",
    "    BUE, MIA, kevo\n",
    "CREATE\n",
    "    (search12:ProductSearch {\n",
    "        product_type: 'FLIGHT',\n",
    "        from: datetime(\"2021-01-01T20:00:0\"),\n",
    "        to: datetime(\"2021-01-15T20:00:0\")\n",
    "    }),\n",
    "    (search12)-[:FROM_LOCATION]->(BUE),\n",
    "    (search12)-[:TO_LOCATION]->(MIA),\n",
    "    (search12)-[:FOR]->(:Persons{adults:2}),\n",
    "    (kevo)-[:SEARCHED {datetime: datetime(\"2020-08-15T21:00:00\")}]->(search12)\n",
    "\"\"\")"
   ]
  },
  {
   "cell_type": "code",
   "execution_count": 37,
   "metadata": {},
   "outputs": [
    {
     "data": {
      "text/plain": [
       "<neo4j.work.result.Result at 0x7fa21cd11250>"
      ]
     },
     "execution_count": 37,
     "metadata": {},
     "output_type": "execute_result"
    }
   ],
   "source": [
    "client.run(\"\"\"\n",
    "MATCH\n",
    "    (BCN: City {iata_code: \"BCN\"}),\n",
    "    (facu:User {email: \"facundo.etchanchu@almundo.com\"})\n",
    "WITH\n",
    "    BCN, facu                                                   \n",
    "CREATE\n",
    "    (search13: ProductSearch {\n",
    "        product_type: 'HOTEL',\n",
    "        from: datetime(\"2021-01-01T20:00:0\"),\n",
    "        to: datetime(\"2021-01-15T20:00:0\")\n",
    "    }),\n",
    "    (search13)-[:LOCATION]->(BCN),\n",
    "    (search13)-[:FOR]->(:Persons {adults:2, children: 2, infants: 1}),\n",
    "    (facu)-[:SEARCHED{datetime:datetime(\"2020-08-15T22:00:00\")}]->(search13)\n",
    "\"\"\")"
   ]
  },
  {
   "cell_type": "code",
   "execution_count": 38,
   "metadata": {},
   "outputs": [
    {
     "data": {
      "text/plain": [
       "<neo4j.work.result.Result at 0x7fa21cd118e0>"
      ]
     },
     "execution_count": 38,
     "metadata": {},
     "output_type": "execute_result"
    }
   ],
   "source": [
    "client.run(\"\"\"\n",
    "MATCH\n",
    "    (MIA: City {iata_code: \"MIA\"}),\n",
    "    (facu:User {email: \"facundo.etchanchu@almundo.com\"})\n",
    "WITH\n",
    "    MIA, facu\n",
    "CREATE\n",
    "    (search14: ProductSearch {\n",
    "        product_type: 'HOTEL',\n",
    "        from: datetime(\"2021-01-01T20:00:0\"),\n",
    "        to: datetime(\"2021-01-15T20:00:0\")\n",
    "    }),\n",
    "    (search14)-[:LOCATION]->(MIA),\n",
    "    (search14)-[:FOR]->(:Persons {adults:2, children: 2, infants: 1}),\n",
    "    (facu)-[:SEARCHED{datetime:datetime(\"2020-08-15T22:00:00\")}]->(search14)\n",
    "\"\"\")"
   ]
  },
  {
   "cell_type": "code",
   "execution_count": 39,
   "metadata": {},
   "outputs": [
    {
     "data": {
      "text/plain": [
       "<neo4j.work.result.Result at 0x7fa21cc04610>"
      ]
     },
     "execution_count": 39,
     "metadata": {},
     "output_type": "execute_result"
    }
   ],
   "source": [
    "client.run(\"\"\"\n",
    "MATCH\n",
    "    (MIA: City {iata_code: \"MIA\"}),\n",
    "    (kevo: User {email: \"kevin.klaus@almundo.com\"})\n",
    "WITH\n",
    "    MIA, kevo\n",
    "CREATE\n",
    "    (search15: ProductSearch {\n",
    "        product_type: 'HOTEL',\n",
    "        from: datetime(\"2021-01-01T20:00:0\"),\n",
    "        to: datetime(\"2021-01-15T20:00:0\")\n",
    "    }),\n",
    "    (search15)-[:LOCATION]->(MIA),\n",
    "    (search15)-[:FOR]->(:Persons {adults:2, children: 2, infants: 1}),\n",
    "    (kevo)-[:SEARCHED{datetime:datetime(\"2020-08-15T22:00:00\")}]->(search15)\n",
    "\"\"\")"
   ]
  },
  {
   "cell_type": "code",
   "execution_count": 40,
   "metadata": {},
   "outputs": [
    {
     "data": {
      "text/plain": [
       "<neo4j.work.result.Result at 0x7fa21cc04d00>"
      ]
     },
     "execution_count": 40,
     "metadata": {},
     "output_type": "execute_result"
    }
   ],
   "source": [
    "client.run(\"\"\"\n",
    "MATCH\n",
    "    (COR: City {iata_code: \"COR\"}),\n",
    "    (kevo: User {email: \"kevin.klaus@almundo.com\"})\n",
    "WITH\n",
    "    COR, kevo\n",
    "CREATE\n",
    "    (search16: ProductSearch {\n",
    "        product_type: 'HOTEL',\n",
    "        from: datetime(\"2021-01-01T20:00:0\"),\n",
    "        to: datetime(\"2021-01-15T20:00:0\")\n",
    "    }),\n",
    "    (search16)-[:LOCATION]->(COR),\n",
    "    (search16)-[:FOR]->(:Persons {adults:2, children: 2, infants: 1}),\n",
    "    (kevo)-[:SEARCHED{datetime:datetime(\"2020-08-15T22:00:00\")}]->(search16)\n",
    "\"\"\")"
   ]
  },
  {
   "cell_type": "code",
   "execution_count": 41,
   "metadata": {},
   "outputs": [
    {
     "data": {
      "text/plain": [
       "<neo4j.work.result.Result at 0x7fa21cea66a0>"
      ]
     },
     "execution_count": 41,
     "metadata": {},
     "output_type": "execute_result"
    }
   ],
   "source": [
    "client.run(\"\"\"\n",
    "MATCH\n",
    "    (SLA: City {iata_code: \"SLA\"}),\n",
    "    (kevo: User {email: \"kevin.klaus@almundo.com\"})\n",
    "WITH\n",
    "    SLA, kevo\n",
    "CREATE\n",
    "    (search17: ProductSearch {\n",
    "        product_type: 'HOTEL',\n",
    "        from: datetime(\"2021-01-01T20:00:0\"),\n",
    "        to: datetime(\"2021-01-15T20:00:0\")\n",
    "    }),\n",
    "    (search17)-[:LOCATION]->(SLA),\n",
    "    (search17)-[:FOR]->(:Persons {adults:2, children: 2, infants: 1}),\n",
    "    (kevo)-[:SEARCHED{datetime:datetime(\"2020-08-15T22:00:00\")}]->(search17)\n",
    "\"\"\")"
   ]
  },
  {
   "cell_type": "markdown",
   "metadata": {},
   "source": [
    "11. Add product purchases"
   ]
  },
  {
   "cell_type": "code",
   "execution_count": 42,
   "metadata": {},
   "outputs": [
    {
     "data": {
      "text/plain": [
       "<neo4j.work.result.Result at 0x7fa21701bd60>"
      ]
     },
     "execution_count": 42,
     "metadata": {},
     "output_type": "execute_result"
    }
   ],
   "source": [
    "client.run(\"\"\"\n",
    "MATCH\n",
    "    (BUE: City {iata_code: \"BUE\"}),\n",
    "    (MIA: City {iata_code: \"MIA\"}),\n",
    "    (adrian: User {email: \"adrian.marino@almundo.com\"})\n",
    "WITH\n",
    "    BUE, MIA, adrian\n",
    "CREATE\n",
    "    (reservation1: ProductReservation {\n",
    "        product_type: 'FLIGHT',\n",
    "        from: datetime(\"2021-01-01T20:00:0\"),\n",
    "        to: datetime(\"2021-01-15T20:00:0\")\n",
    "    }),\n",
    "    (reservation1)-[:FROM_LOCATION]->(BUE), (reservation1)-[:TO_LOCATION]->(MIA),\n",
    "    (reservation1)-[:FOR]->(:Persons {adults:2, children: 2, infants: 1}),\n",
    "    (reservation2: ProductReservation {\n",
    "        product_type: 'INSURANCE',\n",
    "        from: datetime(\"2021-01-01T20:00:0\"),\n",
    "        to: datetime(\"2021-01-15T20:00:0\")\n",
    "    })-[:FOR]->(:Persons {adults:2, children: 2, infants: 1}),\n",
    "    (adrian)-[:MAKE_A]->(purchase1: Purchase {datetime: datetime(\"2020-08-16T20:00:0\")}),\n",
    "    (purchase1)-[:CONTAINS]->(reservation1),\n",
    "    (purchase1)-[:CONTAINS]->(reservation2)\n",
    "\"\"\")"
   ]
  },
  {
   "cell_type": "code",
   "execution_count": 43,
   "metadata": {},
   "outputs": [
    {
     "data": {
      "text/plain": [
       "<neo4j.work.result.Result at 0x7fa21cbef3a0>"
      ]
     },
     "execution_count": 43,
     "metadata": {},
     "output_type": "execute_result"
    }
   ],
   "source": [
    "client.run(\"\"\"\n",
    "MATCH\n",
    "    (MIA: City {iata_code: \"MIA\"}),\n",
    "    (adrian: User {email: \"adrian.marino@almundo.com\"})\n",
    "WITH\n",
    "    MIA, adrian\n",
    "CREATE\n",
    "    (reservation3: ProductReservation {\n",
    "        product_type: 'HOTEL',\n",
    "        from: datetime(\"2021-01-01T20:00:0\"),\n",
    "        to: datetime(\"2021-01-15T20:00:0\")\n",
    "    }),\n",
    "    (reservation3)-[:IN_LOCATION]->(MIA),\n",
    "    (reservation3)-[:FOR]->(:Persons {adults:2, children: 2, infants: 1}), \n",
    "    (adrian)-[:MAKE_A]->(:Purchase {datetime: datetime(\"2020-08-16T20:00:0\")})-[:CONTAINS]->(reservation3)\n",
    "\n",
    "\"\"\")"
   ]
  },
  {
   "cell_type": "code",
   "execution_count": 44,
   "metadata": {},
   "outputs": [
    {
     "data": {
      "text/plain": [
       "<neo4j.work.result.Result at 0x7fa21cc04a60>"
      ]
     },
     "execution_count": 44,
     "metadata": {},
     "output_type": "execute_result"
    }
   ],
   "source": [
    "client.run(\"\"\"\n",
    "MATCH \n",
    "    (COR: City {iata_code: \"COR\"}),\n",
    "    (SLA: City {iata_code: \"SLA\"}),\n",
    "    (juanManuel {email: \"juanmanuel.bouvier@almundo.com\"})\n",
    "WITH\n",
    "    COR, SLA, juanManuel\n",
    "CREATE\n",
    "    (reservation4: ProductReservation {\n",
    "        product_type: 'FLIGHT',\n",
    "        from: datetime(\"2021-01-01T20:00:0\"),\n",
    "        to: datetime(\"2021-01-15T20:00:0\")\n",
    "    }),\n",
    "    (reservation4)-[:FROM_LOCATION]->(COR), (reservation4)-[:TO_LOCATION]->(SLA),\n",
    "    (reservation4)-[:FOR]->(:Persons {adults:2, children: 2, infants: 1}),\n",
    "    (juanManuel)-[:MAKE_A]->(:Purchase {datetime: datetime(\"2020-08-16T20:00:0\")})-[:CONTAINS]->(reservation4)\n",
    "\"\"\")"
   ]
  },
  {
   "cell_type": "code",
   "execution_count": 45,
   "metadata": {},
   "outputs": [
    {
     "data": {
      "text/plain": [
       "<neo4j.work.result.Result at 0x7fa21cc04eb0>"
      ]
     },
     "execution_count": 45,
     "metadata": {},
     "output_type": "execute_result"
    }
   ],
   "source": [
    "client.run(\"\"\"\n",
    "\n",
    "MATCH\n",
    "    (BUE: City {iata_code: \"BUE\"}),\n",
    "    (sofia: User {email: \"sofia.massobrio@almundo.com\"})\n",
    "WITH\n",
    "    BUE, sofia\n",
    "CREATE\n",
    "    (reservation5: ProductReservation {\n",
    "        product_type: 'HOTEL',\n",
    "        from: datetime(\"2021-01-01T20:00:0\"),\n",
    "        to: datetime(\"2021-01-15T20:00:0\")\n",
    "    }),\n",
    "    (reservation5)-[:IN_LOCATION]->(BUE),\n",
    "    (reservation5)-[:FOR]->(:Persons {adults:2}), \n",
    "    (sofia)-[:MAKE_A]->(:Purchase {datetime: datetime(\"2020-08-16T20:00:0\")})-[:CONTAINS]->(reservation5)\n",
    "\n",
    "\"\"\")"
   ]
  },
  {
   "cell_type": "code",
   "execution_count": 46,
   "metadata": {},
   "outputs": [
    {
     "data": {
      "text/plain": [
       "<neo4j.work.result.Result at 0x7fa21cc1b5e0>"
      ]
     },
     "execution_count": 46,
     "metadata": {},
     "output_type": "execute_result"
    }
   ],
   "source": [
    "client.run(\"\"\"\n",
    "MATCH\n",
    "    (BCN: City {iata_code: \"BCN\"}),\n",
    "    (kevo: User {email: \"kevin.klaus@almundo.com\"})\n",
    "WITH\n",
    "    BCN, kevo\n",
    "CREATE\n",
    "    (reservation6: ProductReservation {\n",
    "        product_type: 'HOTEL',\n",
    "        from: datetime(\"2021-01-01T20:00:0\"),\n",
    "        to: datetime(\"2021-01-15T20:00:0\")\n",
    "    }),\n",
    "    (reservation6)-[:IN_LOCATION]->(BCN),\n",
    "    (reservation6)-[:FOR]->(:Persons {adults:2}), \n",
    "    (kevo)-[:MAKE_A]->(:Purchase {datetime: datetime(\"2020-08-16T20:00:0\")})-[:CONTAINS]->(reservation6)\n",
    "\"\"\")"
   ]
  },
  {
   "cell_type": "code",
   "execution_count": 47,
   "metadata": {},
   "outputs": [
    {
     "data": {
      "text/plain": [
       "<neo4j.work.result.Result at 0x7fa21cc1bbe0>"
      ]
     },
     "execution_count": 47,
     "metadata": {},
     "output_type": "execute_result"
    }
   ],
   "source": [
    "client.run(\"\"\"\n",
    "MATCH\n",
    "    (MIA: City {iata_code: \"MIA\"}),\n",
    "    (facu:User {email: \"facundo.etchanchu@almundo.com\"})\n",
    "WITH\n",
    "    MIA, facu\n",
    "CREATE\n",
    "    (reservation7: ProductReservation {\n",
    "        product_type: 'HOTEL',\n",
    "        from: datetime(\"2021-01-01T20:00:0\"),\n",
    "        to: datetime(\"2021-01-15T20:00:0\")\n",
    "    }),\n",
    "    (reservation7)-[:IN_LOCATION]->(MIA),\n",
    "    (reservation7)-[:FOR]->(:Persons {adults:2}), \n",
    "    (facu)-[:MAKE_A]->(:Purchase {datetime: datetime(\"2020-08-16T20:00:0\")})-[:CONTAINS]->(reservation7)\n",
    "\"\"\")"
   ]
  },
  {
   "cell_type": "code",
   "execution_count": 48,
   "metadata": {},
   "outputs": [
    {
     "data": {
      "text/plain": [
       "<neo4j.work.result.Result at 0x7fa21caef280>"
      ]
     },
     "execution_count": 48,
     "metadata": {},
     "output_type": "execute_result"
    }
   ],
   "source": [
    "client.run(\"\"\"\n",
    "MATCH\n",
    "    (BUE: City {iata_code: \"BUE\"}),\n",
    "    (facu:User {email: \"facundo.etchanchu@almundo.com\"})\n",
    "WITH\n",
    "    BUE, facu\n",
    "CREATE\n",
    "    (reservation8: ProductReservation {\n",
    "        product_type: 'HOTEL',\n",
    "        from: datetime(\"2022-01-01T20:00:0\"),\n",
    "        to: datetime(\"2022-01-15T20:00:0\")\n",
    "    }),\n",
    "    (reservation8)-[:IN_LOCATION]->(BUE),\n",
    "    (reservation8)-[:FOR]->(:Persons {adults:2}), \n",
    "    (facu)-[:MAKE_A]->(:Purchase {datetime: datetime(\"2020-08-16T20:00:0\")})-[:CONTAINS]->(reservation8)\n",
    "\"\"\")"
   ]
  },
  {
   "cell_type": "code",
   "execution_count": 49,
   "metadata": {},
   "outputs": [
    {
     "data": {
      "text/plain": [
       "<neo4j.work.result.Result at 0x7fa21cc1b8e0>"
      ]
     },
     "execution_count": 49,
     "metadata": {},
     "output_type": "execute_result"
    }
   ],
   "source": [
    "client.run(\"\"\"\n",
    "MATCH\n",
    "    (BCN: City {iata_code: \"BCN\"}),\n",
    "    (facu: User {email: \"facundo.etchanchu@almundo.com\"})\n",
    "WITH\n",
    "    BCN, facu\n",
    "CREATE\n",
    "    (reservation9: ProductReservation {\n",
    "        product_type: 'HOTEL',\n",
    "        from: datetime(\"2022-01-01T20:00:0\"),\n",
    "        to: datetime(\"2022-01-15T20:00:0\")\n",
    "    }),\n",
    "    (reservation9)-[:IN_LOCATION]->(BCN),\n",
    "    (reservation9)-[:FOR]->(:Persons {adults:2}), \n",
    "    (facu)-[:MAKE_A]->(:Purchase {datetime: datetime(\"2020-08-16T20:00:0\")})-[:CONTAINS]->(reservation9)                                      \n",
    "\"\"\")"
   ]
  },
  {
   "cell_type": "code",
   "execution_count": 50,
   "metadata": {},
   "outputs": [
    {
     "data": {
      "text/plain": [
       "<neo4j.work.result.Result at 0x7fa249dafaf0>"
      ]
     },
     "execution_count": 50,
     "metadata": {},
     "output_type": "execute_result"
    }
   ],
   "source": [
    "client.run(\"\"\"\n",
    "MATCH\n",
    "    (MIA: City {iata_code: \"MIA\"}),\n",
    "    (gonza:User {email: \"gonzalo.prieto@almundo.com\"})\n",
    "WITH\n",
    "    MIA, gonza\n",
    "CREATE\n",
    "    (reservation10: ProductReservation {\n",
    "        product_type: 'HOTEL',\n",
    "        from: datetime(\"2021-01-01T20:00:0\"),\n",
    "        to: datetime(\"2021-01-15T20:00:0\")\n",
    "    }),\n",
    "    (reservation10)-[:IN_LOCATION]->(MIA),\n",
    "    (reservation10)-[:FOR]->(:Persons {adults:2}), \n",
    "    (gonza)-[:MAKE_A]->(:Purchase {datetime: datetime(\"2020-08-16T20:00:0\")})-[:CONTAINS]->(reservation10)\n",
    "\"\"\")"
   ]
  },
  {
   "cell_type": "code",
   "execution_count": 51,
   "metadata": {},
   "outputs": [
    {
     "data": {
      "text/plain": [
       "<neo4j.work.result.Result at 0x7fa21d0da9d0>"
      ]
     },
     "execution_count": 51,
     "metadata": {},
     "output_type": "execute_result"
    }
   ],
   "source": [
    "client.run(\"\"\"\n",
    "MATCH\n",
    "    (BUE: City {iata_code: \"BUE\"}),\n",
    "    (gonza:User {email: \"gonzalo.prieto@almundo.com\"})\n",
    "WITH\n",
    "    BUE, gonza\n",
    "CREATE\n",
    "    (reservation11: ProductReservation {\n",
    "        product_type: 'HOTEL',\n",
    "        from: datetime(\"2022-01-01T20:00:0\"),\n",
    "        to: datetime(\"2022-01-15T20:00:0\")\n",
    "    }),\n",
    "    (reservation11)-[:IN_LOCATION]->(BUE),\n",
    "    (reservation11)-[:FOR]->(:Persons {adults:2}), \n",
    "    (gonza)-[:MAKE_A]->(:Purchase {datetime: datetime(\"2020-08-16T20:00:0\")})-[:CONTAINS]->(reservation11)\n",
    "\n",
    "\"\"\")"
   ]
  },
  {
   "cell_type": "code",
   "execution_count": 52,
   "metadata": {},
   "outputs": [
    {
     "data": {
      "text/plain": [
       "<neo4j.work.result.Result at 0x7fa21cd119d0>"
      ]
     },
     "execution_count": 52,
     "metadata": {},
     "output_type": "execute_result"
    }
   ],
   "source": [
    "client.run(\"\"\"\n",
    "MATCH\n",
    "    (BCN: City {iata_code: \"BCN\"}),\n",
    "    (gonza:User {email: \"gonzalo.prieto@almundo.com\"})\n",
    "WITH\n",
    "    BCN, gonza\n",
    "CREATE\n",
    "    (reservation12: ProductReservation {\n",
    "        product_type: 'HOTEL',\n",
    "        from: datetime(\"2022-01-01T20:00:0\"),\n",
    "        to: datetime(\"2022-01-15T20:00:0\")\n",
    "    }),\n",
    "    (reservation12)-[:IN_LOCATION]->(BCN),\n",
    "    (reservation12)-[:FOR]->(:Persons {adults:2}), \n",
    "    (gonza)-[:MAKE_A]->(:Purchase {datetime: datetime(\"2020-08-16T20:00:0\")})-[:CONTAINS]->(reservation12)\n",
    "\"\"\")"
   ]
  },
  {
   "cell_type": "code",
   "execution_count": 53,
   "metadata": {},
   "outputs": [
    {
     "data": {
      "text/plain": [
       "<neo4j.work.result.Result at 0x7fa21caef610>"
      ]
     },
     "execution_count": 53,
     "metadata": {},
     "output_type": "execute_result"
    }
   ],
   "source": [
    "client.run(\"\"\"\n",
    "MATCH\n",
    "    (fromCity: City {iata_code: \"BUE\"}),\n",
    "    (toCity: City {iata_code: \"MIA\"}),\n",
    "    (user: User {email: \"gonzalo.prieto@almundo.com\"})\n",
    "\n",
    "WITH\n",
    "    fromCity,\n",
    "    toCity,\n",
    "    user\n",
    "\n",
    "CREATE\n",
    "    (reservation: ProductReservation {\n",
    "        product_type: 'FLIGHT',\n",
    "        from: datetime(\"2021-01-01T20:00:0\"),\n",
    "        to: datetime(\"2021-01-15T20:00:0\")\n",
    "    }),\n",
    "\n",
    "    (reservation)-[:FROM_LOCATION]->(fromCity),\n",
    "    (reservation)-[:TO_LOCATION]->(toCity),\n",
    "    (reservation)-[:FOR]->(:Persons {adults:2}),\n",
    "\n",
    "    (user)-[:MAKE_A]->(purchase: Purchase {datetime: datetime(\"2020-08-16T20:00:0\")}),\n",
    "\n",
    "    (purchase)-[:CONTAINS]->(reservation)\n",
    "\"\"\")"
   ]
  },
  {
   "cell_type": "markdown",
   "metadata": {},
   "source": [
    "### Query trends and recomendations"
   ]
  },
  {
   "cell_type": "markdown",
   "metadata": {},
   "source": [
    "1. Give me top 3 more purchased products in the last 10 days by product type and destination scored by purchases count."
   ]
  },
  {
   "cell_type": "code",
   "execution_count": 54,
   "metadata": {},
   "outputs": [
    {
     "data": {
      "text/html": [
       "<div>\n",
       "<style scoped>\n",
       "    .dataframe tbody tr th:only-of-type {\n",
       "        vertical-align: middle;\n",
       "    }\n",
       "\n",
       "    .dataframe tbody tr th {\n",
       "        vertical-align: top;\n",
       "    }\n",
       "\n",
       "    .dataframe thead th {\n",
       "        text-align: right;\n",
       "    }\n",
       "</style>\n",
       "<table border=\"1\" class=\"dataframe\">\n",
       "  <thead>\n",
       "    <tr style=\"text-align: right;\">\n",
       "      <th></th>\n",
       "      <th>product_type</th>\n",
       "      <th>destination</th>\n",
       "      <th>purchases</th>\n",
       "    </tr>\n",
       "  </thead>\n",
       "  <tbody>\n",
       "    <tr>\n",
       "      <th>0</th>\n",
       "      <td>HOTEL</td>\n",
       "      <td>Barcelona</td>\n",
       "      <td>3</td>\n",
       "    </tr>\n",
       "    <tr>\n",
       "      <th>1</th>\n",
       "      <td>HOTEL</td>\n",
       "      <td>Buenos Aires</td>\n",
       "      <td>3</td>\n",
       "    </tr>\n",
       "    <tr>\n",
       "      <th>2</th>\n",
       "      <td>HOTEL</td>\n",
       "      <td>Miami</td>\n",
       "      <td>3</td>\n",
       "    </tr>\n",
       "  </tbody>\n",
       "</table>\n",
       "</div>"
      ],
      "text/plain": [
       "  product_type   destination  purchases\n",
       "0        HOTEL     Barcelona          3\n",
       "1        HOTEL  Buenos Aires          3\n",
       "2        HOTEL         Miami          3"
      ]
     },
     "execution_count": 54,
     "metadata": {},
     "output_type": "execute_result"
    }
   ],
   "source": [
    "QUERY1 = \"\"\"\n",
    "MATCH   (:User)-[:MAKE_A]->\n",
    "        (p:Purchase)-[:CONTAINS]->\n",
    "        (r:ProductReservation)-[:IN_LOCATION|:TO_LOCATION]->\n",
    "        (c:City)\n",
    "WHERE\n",
    "    p.datetime >= (datetime() - duration('P10D'))\n",
    "RETURN\n",
    "    r.product_type as product_type,\n",
    "    c.name as destination,\n",
    "    COUNT(*) as purchases\n",
    "ORDER BY\n",
    "    purchases DESC, \n",
    "    product_type ASC, \n",
    "    destination ASC\n",
    "LIMIT 3\n",
    "\"\"\"\n",
    "columns=['product_type', 'destination', 'purchases']\n",
    "\n",
    "client.query(lambda tx: to_table(tx.run(QUERY1), columns))"
   ]
  },
  {
   "cell_type": "markdown",
   "metadata": {},
   "source": [
    "2. Same to 1. but top 3 more searched."
   ]
  },
  {
   "cell_type": "code",
   "execution_count": 55,
   "metadata": {},
   "outputs": [
    {
     "data": {
      "text/html": [
       "<div>\n",
       "<style scoped>\n",
       "    .dataframe tbody tr th:only-of-type {\n",
       "        vertical-align: middle;\n",
       "    }\n",
       "\n",
       "    .dataframe tbody tr th {\n",
       "        vertical-align: top;\n",
       "    }\n",
       "\n",
       "    .dataframe thead th {\n",
       "        text-align: right;\n",
       "    }\n",
       "</style>\n",
       "<table border=\"1\" class=\"dataframe\">\n",
       "  <thead>\n",
       "    <tr style=\"text-align: right;\">\n",
       "      <th></th>\n",
       "      <th>product_type</th>\n",
       "      <th>destination</th>\n",
       "      <th>searches</th>\n",
       "    </tr>\n",
       "  </thead>\n",
       "  <tbody>\n",
       "    <tr>\n",
       "      <th>0</th>\n",
       "      <td>FLIGHT</td>\n",
       "      <td>Miami</td>\n",
       "      <td>4</td>\n",
       "    </tr>\n",
       "    <tr>\n",
       "      <th>1</th>\n",
       "      <td>FLIGHT</td>\n",
       "      <td>Salta</td>\n",
       "      <td>3</td>\n",
       "    </tr>\n",
       "    <tr>\n",
       "      <th>2</th>\n",
       "      <td>FLIGHT</td>\n",
       "      <td>Barcelona</td>\n",
       "      <td>2</td>\n",
       "    </tr>\n",
       "  </tbody>\n",
       "</table>\n",
       "</div>"
      ],
      "text/plain": [
       "  product_type destination  searches\n",
       "0       FLIGHT       Miami         4\n",
       "1       FLIGHT       Salta         3\n",
       "2       FLIGHT   Barcelona         2"
      ]
     },
     "execution_count": 55,
     "metadata": {},
     "output_type": "execute_result"
    }
   ],
   "source": [
    "QUERY2 = \"\"\"\n",
    "MATCH   (:User)-[s:SEARCHED]->\n",
    "        (ps:ProductSearch)-[:IN_LOCATION|:TO_LOCATION]->\n",
    "        (c:City)\n",
    "WHERE\n",
    "    s.datetime >= (datetime() - duration('P10D'))\n",
    "RETURN\n",
    "    ps.product_type as product_type, \n",
    "    c.name as destination,\n",
    "    COUNT(*) as searches\n",
    "ORDER BY\n",
    "    searches DESC,\n",
    "    product_type ASC,\n",
    "    destination ASC\n",
    "LIMIT 3\n",
    "\"\"\"\n",
    "columns=['product_type', 'destination', 'searches']\n",
    "\n",
    "client.query(lambda tx: to_table(tx.run(QUERY2), columns))"
   ]
  },
  {
   "cell_type": "markdown",
   "metadata": {},
   "source": [
    "3. For a particular user give me product purchased by other users that share same product destination. As result has a table with product type, destination, and a score that is the destinations count by product type ordered descendent. "
   ]
  },
  {
   "cell_type": "code",
   "execution_count": 58,
   "metadata": {},
   "outputs": [
    {
     "data": {
      "text/html": [
       "<div>\n",
       "<style scoped>\n",
       "    .dataframe tbody tr th:only-of-type {\n",
       "        vertical-align: middle;\n",
       "    }\n",
       "\n",
       "    .dataframe tbody tr th {\n",
       "        vertical-align: top;\n",
       "    }\n",
       "\n",
       "    .dataframe thead th {\n",
       "        text-align: right;\n",
       "    }\n",
       "</style>\n",
       "<table border=\"1\" class=\"dataframe\">\n",
       "  <thead>\n",
       "    <tr style=\"text-align: right;\">\n",
       "      <th></th>\n",
       "      <th>product</th>\n",
       "      <th>destination</th>\n",
       "      <th>score</th>\n",
       "    </tr>\n",
       "  </thead>\n",
       "  <tbody>\n",
       "    <tr>\n",
       "      <th>0</th>\n",
       "      <td>HOTEL</td>\n",
       "      <td>Buenos Aires</td>\n",
       "      <td>3</td>\n",
       "    </tr>\n",
       "    <tr>\n",
       "      <th>1</th>\n",
       "      <td>HOTEL</td>\n",
       "      <td>Barcelona</td>\n",
       "      <td>3</td>\n",
       "    </tr>\n",
       "    <tr>\n",
       "      <th>2</th>\n",
       "      <td>FLIGHT</td>\n",
       "      <td>Salta</td>\n",
       "      <td>1</td>\n",
       "    </tr>\n",
       "  </tbody>\n",
       "</table>\n",
       "</div>"
      ],
      "text/plain": [
       "  product   destination  score\n",
       "0   HOTEL  Buenos Aires      3\n",
       "1   HOTEL     Barcelona      3\n",
       "2  FLIGHT         Salta      1"
      ]
     },
     "execution_count": 58,
     "metadata": {},
     "output_type": "execute_result"
    }
   ],
   "source": [
    "email=\"adrian.marino@almundo.com\"\n",
    "\n",
    "QUERY3 = \"\"\"\n",
    "    MATCH\n",
    "        (u:User {email: \"%s\"})\n",
    "            -[:MAKE_A]->(up:Purchase)\n",
    "            -[:CONTAINS]->(u_pr:ProductReservation)\n",
    "            -[:TO_LOCATION|:IN_LOCATION]->(u_city:City),\n",
    "        (ou:User)\n",
    "            -[:MAKE_A]->(oup:Purchase)\n",
    "            -[:CONTAINS]->(ou_pr:ProductReservation)\n",
    "            -[:TO_LOCATION|:IN_LOCATION]->(ou_city:City)\n",
    "    WHERE\n",
    "        ou <> u\n",
    "        AND ou_city <> u_city \n",
    "        AND up.datetime >= (datetime() - duration('P60D')) \n",
    "        AND oup.datetime >= (datetime() - duration('P60D'))\n",
    "    WITH\n",
    "        distinct(ou_pr) as product\n",
    "    MATCH\n",
    "        (product)-[:TO_LOCATION|:IN_LOCATION]->(city:City)\n",
    "    WITH\n",
    "        product.product_type as product_type,\n",
    "        city.name as destination,\n",
    "        REDUCE (sc=0, c in COLLECT(city) | sc+1 ) AS score\n",
    "    RETURN\n",
    "        product_type as product,\n",
    "        destination,\n",
    "        score\n",
    "    ORDER BY\n",
    "        score DESC\n",
    "    LIMIT 10\n",
    "\"\"\" % (email)\n",
    "\n",
    "\n",
    "columns=['product', 'destination', 'score']\n",
    "client.query(lambda tx: to_table(tx.run(QUERY3), columns))"
   ]
  },
  {
   "cell_type": "code",
   "execution_count": null,
   "metadata": {},
   "outputs": [],
   "source": []
  },
  {
   "cell_type": "code",
   "execution_count": null,
   "metadata": {},
   "outputs": [],
   "source": []
  }
 ],
 "metadata": {
  "kernelspec": {
   "display_name": "Python 3",
   "language": "python",
   "name": "python3"
  },
  "language_info": {
   "codemirror_mode": {
    "name": "ipython",
    "version": 3
   },
   "file_extension": ".py",
   "mimetype": "text/x-python",
   "name": "python",
   "nbconvert_exporter": "python",
   "pygments_lexer": "ipython3",
   "version": "3.8.3"
  }
 },
 "nbformat": 4,
 "nbformat_minor": 4
}
