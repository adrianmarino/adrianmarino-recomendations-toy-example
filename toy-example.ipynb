{
 "cells": [
  {
   "cell_type": "markdown",
   "metadata": {},
   "source": [
    "# Products Recomendation Example"
   ]
  },
  {
   "cell_type": "code",
   "execution_count": 124,
   "metadata": {},
   "outputs": [],
   "source": [
    "%%capture\n",
    "%load_ext autoreload\n",
    "%autoreload 2"
   ]
  },
  {
   "cell_type": "code",
   "execution_count": 125,
   "metadata": {},
   "outputs": [],
   "source": [
    "from src.repository import DatabaseClient, to_table, \\\n",
    "    CityRepository, CountryRepository, RegionRepository, UserRepository, \\\n",
    "    City, Country, Region, User\n",
    "\n",
    "from src.entity_loader import EntityLoader, \\\n",
    "    CityMapper, RegionMapper, UserMapper, CountryMapper, \\\n",
    "    CountryFilter, CityFilter"
   ]
  },
  {
   "cell_type": "markdown",
   "metadata": {},
   "source": [
    "## Prepare data access"
   ]
  },
  {
   "cell_type": "markdown",
   "metadata": {},
   "source": [
    "####  1. Create database client"
   ]
  },
  {
   "cell_type": "code",
   "execution_count": 126,
   "metadata": {},
   "outputs": [],
   "source": [
    "USERNAME = PASSWORD = \"neo4j\"\n",
    "URL = \"bolt://localhost:7687\"\n",
    "\n",
    "client = DatabaseClient(URL, USERNAME, PASSWORD)"
   ]
  },
  {
   "cell_type": "markdown",
   "metadata": {},
   "source": [
    "### 2. Create repositories"
   ]
  },
  {
   "cell_type": "code",
   "execution_count": 127,
   "metadata": {},
   "outputs": [],
   "source": [
    "cityRepository = CityRepository(client)\n",
    "\n",
    "countryRepository = CountryRepository(client)\n",
    "\n",
    "regionRepository = RegionRepository(client)\n",
    "\n",
    "userRepository = UserRepository(client)"
   ]
  },
  {
   "cell_type": "markdown",
   "metadata": {},
   "source": [
    "## Prepare database"
   ]
  },
  {
   "cell_type": "markdown",
   "metadata": {},
   "source": [
    "#### 1. Remove all nodes"
   ]
  },
  {
   "cell_type": "code",
   "execution_count": 128,
   "metadata": {},
   "outputs": [],
   "source": [
    "# client.run(\"MATCH (n:City) DETACH DELETE n\")\n",
    "client.run(\"MATCH (n:User) DETACH DELETE n\")\n",
    "client.run(\"MATCH (n:Country) DETACH DELETE n\")\n",
    "client.run(\"MATCH (n:Region) DETACH DELETE n\")\n",
    "client.run(\"MATCH (n:Persons) DETACH DELETE n\")\n",
    "client.run(\"MATCH (n:ProductSearch) DETACH DELETE n\")\n",
    "client.run(\"MATCH (n:Purchase) DETACH DELETE n\")\n",
    "client.run(\"MATCH (n:ProductReservation) DETACH DELETE n\")"
   ]
  },
  {
   "cell_type": "markdown",
   "metadata": {},
   "source": [
    "#### 2. Load cities"
   ]
  },
  {
   "cell_type": "code",
   "execution_count": 129,
   "metadata": {},
   "outputs": [
    {
     "name": "stdout",
     "output_type": "stream",
     "text": [
      "Cities: 120342\n"
     ]
    }
   ],
   "source": [
    "cities = list(EntityLoader.load_filter_map('database/cities.json', CityFilter(), CityMapper()))\n",
    "\n",
    "print(f'Cities: {len(cities)}')"
   ]
  },
  {
   "cell_type": "code",
   "execution_count": 130,
   "metadata": {},
   "outputs": [],
   "source": [
    "# cityRepository.upsert(cities)"
   ]
  },
  {
   "cell_type": "markdown",
   "metadata": {},
   "source": [
    "#### 3. Load countries"
   ]
  },
  {
   "cell_type": "code",
   "execution_count": 131,
   "metadata": {},
   "outputs": [
    {
     "name": "stdout",
     "output_type": "stream",
     "text": [
      "Countries: 199\n"
     ]
    }
   ],
   "source": [
    "countries = list(EntityLoader.load_filter_map('database/countries.json', CountryFilter(), CountryMapper()))\n",
    "\n",
    "print(f'Countries: {len(countries)}')"
   ]
  },
  {
   "cell_type": "code",
   "execution_count": 132,
   "metadata": {},
   "outputs": [
    {
     "data": {
      "application/vnd.jupyter.widget-view+json": {
       "model_id": "b4cc22002cbf408c84443e9a3399c3ac",
       "version_major": 2,
       "version_minor": 0
      },
      "text/plain": [
       "HBox(children=(FloatProgress(value=0.0, max=199.0), HTML(value='')))"
      ]
     },
     "metadata": {},
     "output_type": "display_data"
    },
    {
     "name": "stdout",
     "output_type": "stream",
     "text": [
      "\n"
     ]
    }
   ],
   "source": [
    "countryRepository.upsert(countries)"
   ]
  },
  {
   "cell_type": "markdown",
   "metadata": {},
   "source": [
    "#### 4. Load global regions"
   ]
  },
  {
   "cell_type": "code",
   "execution_count": 133,
   "metadata": {},
   "outputs": [
    {
     "name": "stdout",
     "output_type": "stream",
     "text": [
      "Global Regions: 7\n"
     ]
    }
   ],
   "source": [
    "regions = list(EntityLoader.load_map('database/regions.json', RegionMapper()))\n",
    "\n",
    "print(f'Global Regions: {len(regions)}')"
   ]
  },
  {
   "cell_type": "code",
   "execution_count": 134,
   "metadata": {},
   "outputs": [
    {
     "data": {
      "application/vnd.jupyter.widget-view+json": {
       "model_id": "66f075689a1c42acbd3cdb0a340ee049",
       "version_major": 2,
       "version_minor": 0
      },
      "text/plain": [
       "HBox(children=(FloatProgress(value=0.0, max=7.0), HTML(value='')))"
      ]
     },
     "metadata": {},
     "output_type": "display_data"
    },
    {
     "name": "stdout",
     "output_type": "stream",
     "text": [
      "\n"
     ]
    }
   ],
   "source": [
    "regionRepository.upsert(regions)"
   ]
  },
  {
   "cell_type": "markdown",
   "metadata": {},
   "source": [
    "#### 5. Load users"
   ]
  },
  {
   "cell_type": "code",
   "execution_count": 135,
   "metadata": {},
   "outputs": [
    {
     "name": "stdout",
     "output_type": "stream",
     "text": [
      "Users: 7 / User(id=1, email='adrian.marino@almundo.com', realm='ALMUNDO-ALMUNDO-EMPLOYEE')\n"
     ]
    }
   ],
   "source": [
    "users = list(EntityLoader.load_map('database/users.json', UserMapper()))\n",
    "\n",
    "print(f'Users: {len(users)} / {users[0]}')"
   ]
  },
  {
   "cell_type": "code",
   "execution_count": 136,
   "metadata": {},
   "outputs": [
    {
     "data": {
      "application/vnd.jupyter.widget-view+json": {
       "model_id": "f7fdbec523b14d1aa0a49daab11c63e9",
       "version_major": 2,
       "version_minor": 0
      },
      "text/plain": [
       "HBox(children=(FloatProgress(value=0.0, max=7.0), HTML(value='')))"
      ]
     },
     "metadata": {},
     "output_type": "display_data"
    },
    {
     "name": "stdout",
     "output_type": "stream",
     "text": [
      "\n"
     ]
    }
   ],
   "source": [
    "userRepository.upsert(users)"
   ]
  },
  {
   "cell_type": "markdown",
   "metadata": {},
   "source": [
    "Users:"
   ]
  },
  {
   "cell_type": "code",
   "execution_count": 137,
   "metadata": {},
   "outputs": [],
   "source": [
    "adrian = \"adrian.marino@almundo.com\"\n",
    "juanma = \"juanmanuel.bouvier@almundo.com\"\n",
    "sofi   = \"sofia.massobrio@almundo.com\"\n",
    "facu   = \"facundo.etchanchu@almundo.com\"\n",
    "kevo   = \"kevin.klaus@almundo.com\"\n",
    "gonza  = \"gonzalo.prieto@almundo.com\"\n",
    "diego  = \"diego.saez@almundo.com\""
   ]
  },
  {
   "cell_type": "markdown",
   "metadata": {},
   "source": [
    "#### 6. Add citiy belong to country relation"
   ]
  },
  {
   "cell_type": "code",
   "execution_count": 138,
   "metadata": {},
   "outputs": [],
   "source": [
    "def city_belong_to_country(relation):\n",
    "    client.run(\"\"\"\n",
    "        MATCH\n",
    "            (city: City {iata_code: \"%s\"}),\n",
    "            (country: Country {code: \"%s\"})\n",
    "        WITH\n",
    "            city,\n",
    "            country\n",
    "        MERGE\n",
    "            (city)-[:BELONG_TO]->(country)\n",
    "    \"\"\" %(relation['city'],relation['country'])\n",
    ")"
   ]
  },
  {
   "cell_type": "code",
   "execution_count": 139,
   "metadata": {},
   "outputs": [
    {
     "name": "stdout",
     "output_type": "stream",
     "text": [
      "Relations: 7\n"
     ]
    }
   ],
   "source": [
    "relation = list(EntityLoader.load('database/city-country.json'))\n",
    "print(f'Relations: {len(relation)}')"
   ]
  },
  {
   "cell_type": "code",
   "execution_count": 140,
   "metadata": {},
   "outputs": [],
   "source": [
    "for r in relation: city_belong_to_country(r)"
   ]
  },
  {
   "cell_type": "markdown",
   "metadata": {},
   "source": [
    "#### 7. Add country belong to region relation"
   ]
  },
  {
   "cell_type": "code",
   "execution_count": 141,
   "metadata": {},
   "outputs": [],
   "source": [
    "def country_belong_to_region(relation):\n",
    "    client.run(\"\"\"\n",
    "        MATCH\n",
    "            (country: Country {code: \"%s\"}),\n",
    "            (region: Region {code: \"%s\"})\n",
    "        WITH\n",
    "            country,\n",
    "            region\n",
    "        MERGE\n",
    "            (country)-[:BELONG_TO]->(region)\n",
    "    \"\"\" %(relation['country'],relation['region'])\n",
    ")"
   ]
  },
  {
   "cell_type": "code",
   "execution_count": 142,
   "metadata": {},
   "outputs": [
    {
     "name": "stdout",
     "output_type": "stream",
     "text": [
      "Relations: 8\n"
     ]
    }
   ],
   "source": [
    "relations = list(EntityLoader.load('database/country-region.json'))\n",
    "print(f'Relations: {len(relations)}')"
   ]
  },
  {
   "cell_type": "code",
   "execution_count": 143,
   "metadata": {},
   "outputs": [],
   "source": [
    "for r in relations: country_belong_to_region(r)"
   ]
  },
  {
   "cell_type": "markdown",
   "metadata": {},
   "source": [
    "#### 8. Create products searches"
   ]
  },
  {
   "cell_type": "code",
   "execution_count": 147,
   "metadata": {},
   "outputs": [],
   "source": [
    "def flight_search(\n",
    "    email,\n",
    "    from_city,\n",
    "    to_city,\n",
    "    from_datetime=\"2021-01-01T20:00:0\",\n",
    "    to_datetime=\"2021-01-15T20:00:0\",\n",
    "    adults=2,\n",
    "    children=2,\n",
    "    infants=1,\n",
    "    purchase_datetime=\"2020-08-16T20:00:0\"\n",
    "):\n",
    "    client.run(\"\"\"\n",
    "        MATCH\n",
    "            (fromCity: City {iata_code: \"%s\"}), \n",
    "            (toCity: City {iata_code: \"%s\"}),\n",
    "            (user: User {email: \"%s\"})\n",
    "        WITH\n",
    "            fromCity, toCity, user\n",
    "        CREATE\n",
    "            (search:ProductSearch {\n",
    "                product_type: 'FLIGHT',\n",
    "                from: datetime(\"%s\"),\n",
    "                to: datetime(\"%s\")\n",
    "            }),\n",
    "            (search)-[:FROM_LOCATION]->(fromCity), \n",
    "            (search)-[:TO_LOCATION]->(toCity),\n",
    "            (search)-[:FOR]->(:Persons{adults:%s, children: %s, infants: %s}),\n",
    "            (user)-[:SEARCHED {datetime: datetime(\"%s\")}]->(search)\n",
    "        \n",
    "        \"\"\" % (from_city, to_city, email, from_datetime, to_datetime, adults, children, infants, purchase_datetime)\n",
    "    )"
   ]
  },
  {
   "cell_type": "code",
   "execution_count": 148,
   "metadata": {},
   "outputs": [],
   "source": [
    "def hotel_search(\n",
    "    email,\n",
    "    city,\n",
    "    from_datetime=\"2021-01-01T20:00:0\",\n",
    "    to_datetime=\"2021-01-15T20:00:0\",\n",
    "    adults=2,\n",
    "    children=2,\n",
    "    infants=1,\n",
    "    purchase_datetime=\"2020-08-16T20:00:0\"\n",
    "):\n",
    "    client.run(\"\"\"\n",
    "        MATCH\n",
    "            (city: City {iata_code: \"%s\"}),\n",
    "            (user: User {email: \"%s\"})\n",
    "        WITH\n",
    "            city, user\n",
    "        CREATE\n",
    "            (search:ProductSearch {\n",
    "                product_type: 'HOTEL',\n",
    "                from: datetime(\"%s\"),\n",
    "                to: datetime(\"%s\")\n",
    "            }),\n",
    "            (search)-[:IN_LOCATION]->(city), \n",
    "            (search)-[:FOR]->(:Persons{adults: %s, children: %s, infants: %s}),\n",
    "            (user)-[:SEARCHED {datetime: datetime(\"%s\")}]->(search)\n",
    "        \n",
    "        \"\"\" % (city, email, from_datetime, to_datetime, adults, children, infants, purchase_datetime)\n",
    "    )"
   ]
  },
  {
   "cell_type": "markdown",
   "metadata": {},
   "source": [
    "Adrian's searches: "
   ]
  },
  {
   "cell_type": "code",
   "execution_count": 150,
   "metadata": {},
   "outputs": [],
   "source": [
    "flight_search(email=adrian, from_city=\"BUE\", to_city=\"MIA\")\n",
    "flight_search(email=adrian, from_city=\"BUE\", to_city=\"BCN\")\n",
    "flight_search(email=adrian, from_city=\"BUE\", to_city=\"SLA\")\n",
    "\n",
    "hotel_search(email=adrian, city=\"MIA\")\n",
    "hotel_search(email=adrian, city=\"BCN\")"
   ]
  },
  {
   "cell_type": "markdown",
   "metadata": {},
   "source": [
    "Juan manuel searches:"
   ]
  },
  {
   "cell_type": "code",
   "execution_count": 151,
   "metadata": {},
   "outputs": [],
   "source": [
    "flight_search(email=juanma, from_city=\"COR\", to_city=\"SLA\")"
   ]
  },
  {
   "cell_type": "markdown",
   "metadata": {},
   "source": [
    "Sofia searches:"
   ]
  },
  {
   "cell_type": "code",
   "execution_count": 152,
   "metadata": {},
   "outputs": [],
   "source": [
    "flight_search(email=sofi, from_city=\"BUE\", to_city=\"RIO\")\n",
    "flight_search(email=sofi, from_city=\"RIO\", to_city=\"BCN\")\n",
    "flight_search(email=sofi, from_city=\"BUE\", to_city=\"MIA\")\n",
    "flight_search(email=sofi, from_city=\"COR\", to_city=\"SLA\")\n",
    "flight_search(email=sofi, from_city=\"SLA\", to_city=\"COR\")"
   ]
  },
  {
   "cell_type": "markdown",
   "metadata": {},
   "source": [
    "Kevin searches:"
   ]
  },
  {
   "cell_type": "code",
   "execution_count": 153,
   "metadata": {},
   "outputs": [],
   "source": [
    "flight_search(email=kevo, from_city=\"COR\", to_city=\"SLA\")\n",
    "flight_search(email=kevo, from_city=\"BUE\", to_city=\"MIA\")\n",
    "\n",
    "hotel_search(email=kevo, city=\"MIA\")\n",
    "hotel_search(email=kevo, city=\"COR\")\n",
    "hotel_search(email=kevo, city=\"SLA\")"
   ]
  },
  {
   "cell_type": "markdown",
   "metadata": {},
   "source": [
    "Facundo searches:"
   ]
  },
  {
   "cell_type": "code",
   "execution_count": 154,
   "metadata": {},
   "outputs": [],
   "source": [
    "hotel_search(email=facu, city=\"BCN\")\n",
    "hotel_search(email=facu, city=\"MIA\")\n",
    "hotel_search(email=facu, city=\"RIO\")\n",
    "\n",
    "flight_search(email=facu, from_city=\"BUE\", to_city=\"RIO\")\n",
    "flight_search(email=facu, from_city=\"BUE\", to_city=\"SLA\")\n",
    "flight_search(email=facu, from_city=\"BUE\", to_city=\"BCN\")"
   ]
  },
  {
   "cell_type": "markdown",
   "metadata": {},
   "source": [
    "Diego searches:"
   ]
  },
  {
   "cell_type": "code",
   "execution_count": 155,
   "metadata": {},
   "outputs": [],
   "source": [
    "hotel_search(email=diego, city=\"BCN\")\n",
    "hotel_search(email=diego, city=\"MIA\")\n",
    "hotel_search(email=diego, city=\"RIO\")\n",
    "\n",
    "flight_search(email=diego, from_city=\"BUE\", to_city=\"RIO\")\n",
    "flight_search(email=diego, from_city=\"BUE\", to_city=\"SLA\")\n",
    "flight_search(email=diego, from_city=\"BUE\", to_city=\"BCN\")"
   ]
  },
  {
   "cell_type": "markdown",
   "metadata": {},
   "source": [
    "#### 9. Add product purchases"
   ]
  },
  {
   "cell_type": "code",
   "execution_count": 156,
   "metadata": {},
   "outputs": [],
   "source": [
    "def flight_purchease(\n",
    "    email,\n",
    "    from_city,\n",
    "    to_city,\n",
    "    from_datetime=\"2021-01-01T20:00:0\",\n",
    "    to_datetime=\"2021-01-15T20:00:0\",\n",
    "    adults=2,\n",
    "    children=2,\n",
    "    infants=1,\n",
    "    purchase_datetime=\"2020-08-16T20:00:0\"\n",
    "):\n",
    "    client.run(\"\"\"\n",
    "        MATCH \n",
    "            (fromCity: City {iata_code: \"%s\"}),\n",
    "            (toCity: City {iata_code: \"%s\"}),\n",
    "            (user: User{email: \"%s\"})\n",
    "        \n",
    "        WITH\n",
    "            fromCity, toCity, user\n",
    "        \n",
    "        CREATE\n",
    "            (reservation: ProductReservation {\n",
    "                product_type: 'FLIGHT',\n",
    "                from: datetime(\"%s\"),\n",
    "                to: datetime(\"%s\")\n",
    "            }),\n",
    "            \n",
    "            (reservation)-[:FROM_LOCATION]->(fromCity),\n",
    "            (reservation)-[:TO_LOCATION]->(toCity),\n",
    "\n",
    "            (reservation)-[:FOR]->(:Persons{adults: %s, children: %s, infants: %s}),\n",
    "            \n",
    "            (user)-[:MAKE_A]->(:Purchase {datetime: datetime(\"%s\")})-[:CONTAINS]->(reservation)\n",
    "\n",
    "        \"\"\" % (from_city, to_city, email, from_datetime, to_datetime, adults, children, infants, purchase_datetime)\n",
    "    )"
   ]
  },
  {
   "cell_type": "code",
   "execution_count": 159,
   "metadata": {},
   "outputs": [],
   "source": [
    "def hotel_purchease(\n",
    "    email,\n",
    "    city,\n",
    "    from_datetime=\"2021-01-01T20:00:0\",\n",
    "    to_datetime=\"2021-01-15T20:00:0\",\n",
    "    adults=2,\n",
    "    children=2,\n",
    "    infants=1,\n",
    "    purchase_datetime=\"2020-08-16T20:00:0\"\n",
    "):\n",
    "    client.run(\"\"\"\n",
    "        MATCH \n",
    "            (city: City {iata_code: \"%s\"}),\n",
    "            (user: User{email: \"%s\"})\n",
    "        WITH\n",
    "            city, user\n",
    "        CREATE\n",
    "            (reservation: ProductReservation {\n",
    "                product_type: 'HOTEL',\n",
    "                from: datetime(\"%s\"),\n",
    "                to: datetime(\"%s\")\n",
    "            }),\n",
    "            (reservation)-[:IN_LOCATION]->(city),\n",
    "            (reservation)-[:FOR]->(:Persons{adults: %s, children: %s, infants: %s}),\n",
    "            (user)-[:MAKE_A]->(:Purchase {datetime: datetime(\"%s\")})-[:CONTAINS]->(reservation)\n",
    " \n",
    "        \"\"\" % (city, email, from_datetime, to_datetime, adults, children, infants, purchase_datetime)\n",
    "    )"
   ]
  },
  {
   "cell_type": "markdown",
   "metadata": {},
   "source": [
    "Adrian purchases:"
   ]
  },
  {
   "cell_type": "code",
   "execution_count": 160,
   "metadata": {},
   "outputs": [],
   "source": [
    "flight_purchease(email=adrian, from_city=\"BUE\", to_city=\"MIA\")\n",
    "hotel_purchease(email=adrian, city=\"MIA\")\n",
    "\n",
    "flight_purchease(email=adrian, from_city=\"BUE\", to_city=\"RIO\")\n",
    "hotel_purchease(email=adrian, city=\"RIO\")\n",
    "\n",
    "flight_purchease(email=adrian, from_city=\"COR\", to_city=\"SLA\")\n",
    "hotel_purchease(email=adrian, city=\"SLA\")"
   ]
  },
  {
   "cell_type": "markdown",
   "metadata": {},
   "source": [
    "Juan manuel purchases:"
   ]
  },
  {
   "cell_type": "code",
   "execution_count": null,
   "metadata": {},
   "outputs": [],
   "source": [
    "flight_purchease(email=juanma, from_city=\"COR\", to_city=\"SLA\")\n",
    "hotel_purchease(email=juanma, city=\"SLA\")\n",
    "\n",
    "flight_purchease(email=juanma, from_city=\"SLA\", to_city=\"RIO\")\n",
    "hotel_purchease(email=juanma, city=\"RIO\")\n",
    "\n",
    "flight_purchease(email=juanma, from_city=\"SLA\", to_city=\"RIO\")\n",
    "hotel_purchease(email=juanma, city=\"RIO\")"
   ]
  },
  {
   "cell_type": "markdown",
   "metadata": {},
   "source": [
    "Sofia purchases:"
   ]
  },
  {
   "cell_type": "code",
   "execution_count": null,
   "metadata": {},
   "outputs": [],
   "source": [
    "flight_purchease(email=sofi, from_city=\"BUE\", to_city=\"RIO\")\n",
    "hotel_purchease(email=sofio, city=\"RIO\")\n",
    "\n",
    "flight_purchease(email=sofi, from_city=\"BUE\", to_city=\"SLA\")\n",
    "hotel_purchease(email=sofio, city=\"SLA\")"
   ]
  },
  {
   "cell_type": "markdown",
   "metadata": {},
   "source": [
    "Kevin purchases:"
   ]
  },
  {
   "cell_type": "code",
   "execution_count": null,
   "metadata": {},
   "outputs": [],
   "source": [
    "hotel_purchease(email=kevo, city=\"BCN\")\n",
    "\n",
    "flight_purchease(email=kevo, from_city=\"COR\", to_city=\"SLA\")\n",
    "hotel_purchease(email=kevo, city=\"SLA\")"
   ]
  },
  {
   "cell_type": "markdown",
   "metadata": {},
   "source": [
    "Facundo purchases:"
   ]
  },
  {
   "cell_type": "code",
   "execution_count": null,
   "metadata": {},
   "outputs": [],
   "source": [
    "hotel_purchease(email=facu, city=\"MIA\")\n",
    "hotel_purchease(email=facu, city=\"BUE\")\n",
    "hotel_purchease(email=facu, city=\"BCN\")\n",
    "hotel_purchease(email=facu, city=\"RIO\")\n",
    "hotel_purchease(email=facu, city=\"COR\")\n",
    "hotel_purchease(email=facu, city=\"SLA\")"
   ]
  },
  {
   "cell_type": "markdown",
   "metadata": {},
   "source": [
    "Gonza purchases:"
   ]
  },
  {
   "cell_type": "code",
   "execution_count": null,
   "metadata": {},
   "outputs": [],
   "source": [
    "flight_purchease(email=gonza, from_city=\"BUE\", to_city=\"MIA\")\n",
    "hotel_purchease(email=gonza, city=\"MIA\")\n",
    "\n",
    "flight_purchease(email=gonza, from_city=\"BUE\", to_city=\"RIO\")\n",
    "hotel_purchease(email=gonza, city=\"RIO\")\n",
    "\n",
    "flight_purchease(email=gonza, from_city=\"BUE\", to_city=\"BCN\")\n",
    "hotel_purchease(email=gonza, city=\"BCN\")"
   ]
  },
  {
   "cell_type": "markdown",
   "metadata": {},
   "source": [
    "## Query trends and recomendations"
   ]
  },
  {
   "cell_type": "markdown",
   "metadata": {},
   "source": [
    "#### 1. Give me top 3 more purchased products in the last 10 days by product type and destination scored by purchases count."
   ]
  },
  {
   "cell_type": "code",
   "execution_count": null,
   "metadata": {},
   "outputs": [],
   "source": [
    "QUERY1 = \"\"\"\n",
    "MATCH   (:User)-[:MAKE_A]->\n",
    "        (p:Purchase)-[:CONTAINS]->\n",
    "        (r:ProductReservation)-[:IN_LOCATION|:TO_LOCATION]->\n",
    "        (c:City)\n",
    "WHERE\n",
    "    p.datetime >= (datetime() - duration('P10D'))\n",
    "RETURN\n",
    "    r.product_type as product_type,\n",
    "    c.name as destination,\n",
    "    COUNT(*) as purchases\n",
    "ORDER BY\n",
    "    purchases DESC, \n",
    "    product_type ASC, \n",
    "    destination ASC\n",
    "LIMIT 3\n",
    "\"\"\"\n",
    "columns=['product_type', 'destination', 'purchases']\n",
    "\n",
    "client.query(lambda tx: to_table(tx.run(QUERY1), columns))"
   ]
  },
  {
   "cell_type": "markdown",
   "metadata": {},
   "source": [
    "#### 2. Same to 1. but top 3 more searched."
   ]
  },
  {
   "cell_type": "code",
   "execution_count": null,
   "metadata": {},
   "outputs": [],
   "source": [
    "QUERY2 = \"\"\"\n",
    "MATCH   (:User)-[s:SEARCHED]->\n",
    "        (ps:ProductSearch)-[:IN_LOCATION|:TO_LOCATION]->\n",
    "        (c:City)\n",
    "WHERE\n",
    "    s.datetime >= (datetime() - duration('P10D'))\n",
    "RETURN\n",
    "    ps.product_type as product_type, \n",
    "    c.name as destination,\n",
    "    COUNT(*) as searches\n",
    "ORDER BY\n",
    "    searches DESC,\n",
    "    product_type ASC,\n",
    "    destination ASC\n",
    "LIMIT 3\n",
    "\"\"\"\n",
    "columns=['product_type', 'destination', 'searches']\n",
    "\n",
    "client.query(lambda tx: to_table(tx.run(QUERY2), columns))"
   ]
  },
  {
   "cell_type": "markdown",
   "metadata": {},
   "source": [
    "#### 3. For an user who bought a product give me products purchased by other users that share same destination. As result has a table with product type, destination, and a score that is the destinations count by product type ordered descendent. "
   ]
  },
  {
   "cell_type": "code",
   "execution_count": null,
   "metadata": {},
   "outputs": [],
   "source": [
    "def products_recomendations_by_destination_for_purchaser_user(email, time_window):\n",
    "    return \"\"\"\n",
    "        MATCH\n",
    "            (u:User {email: \"%s\"})\n",
    "                -[:MAKE_A]->(up:Purchase)\n",
    "                -[:CONTAINS]->(u_pr:ProductReservation)\n",
    "                -[:TO_LOCATION|:IN_LOCATION]->(u_city:City),\n",
    "            (ou:User)\n",
    "                -[:MAKE_A]->(oup:Purchase)\n",
    "                -[:CONTAINS]->(ou_pr:ProductReservation)\n",
    "                -[:TO_LOCATION|:IN_LOCATION]->(ou_city:City)\n",
    "        WHERE\n",
    "            ou <> u\n",
    "            AND ou_city <> u_city \n",
    "            AND up.datetime >= (datetime() - duration('P%sD')) \n",
    "            AND oup.datetime >= (datetime() - duration('P%sD'))\n",
    "        WITH\n",
    "            distinct(ou_pr) as product\n",
    "        MATCH\n",
    "            (product)-[:TO_LOCATION|:IN_LOCATION]->(city:City)\n",
    "        WITH\n",
    "            product.product_type as product_type,\n",
    "            city.name as destination,\n",
    "            REDUCE (sc=0, c in COLLECT(city) | sc+1 ) AS score\n",
    "        RETURN\n",
    "            product_type as product,\n",
    "            destination,\n",
    "            score\n",
    "        ORDER BY\n",
    "            score DESC\n",
    "        LIMIT 10\n",
    "    \"\"\" % (email, time_window, time_window)"
   ]
  },
  {
   "cell_type": "code",
   "execution_count": null,
   "metadata": {},
   "outputs": [],
   "source": [
    "query = products_recomendations_by_destination_for_purchaser_user(\n",
    "    email=\"adrian.marino@almundo.com\",\n",
    "    time_window = 60  # In days\n",
    ")\n",
    "columns_to_show = ['product', 'destination', 'score']\n",
    "\n",
    "client.query(lambda tx: to_table(tx.run(query), columns_to_show))"
   ]
  },
  {
   "cell_type": "markdown",
   "metadata": {},
   "source": [
    "#### 4. For an user who search given products give me products purchased by other users that share same destination. As result has a table with product type, destination, and a score that is the destinations count by product type ordered descendent. "
   ]
  },
  {
   "cell_type": "code",
   "execution_count": null,
   "metadata": {},
   "outputs": [],
   "source": [
    "def products_recomendations_by_destination_for_searcher_user(email, time_window):\n",
    "    return \"\"\"\n",
    "        MATCH\n",
    "            (u:User {email: \"%s\"})\n",
    "                -[:SEARCHED]->(up:ProductSearch)\n",
    "                -[:TO_LOCATION|:IN_LOCATION]->(u_city:City),\n",
    "            (ou:User)\n",
    "                -[:MAKE_A]->(oup:Purchase)\n",
    "                -[:CONTAINS]->(ou_pr:ProductReservation)\n",
    "                -[:TO_LOCATION|:IN_LOCATION]->(ou_city:City)\n",
    "        WHERE\n",
    "            ou <> u\n",
    "            AND ou_city <> u_city \n",
    "            AND up.datetime >= (datetime() - duration('P%sD')) \n",
    "            AND oup.datetime >= (datetime() - duration('P%sD'))\n",
    "        WITH\n",
    "            distinct(ou_pr) as product\n",
    "        MATCH\n",
    "            (product)-[:TO_LOCATION|:IN_LOCATION]->(city:City)\n",
    "        WITH\n",
    "            product.product_type as product_type,\n",
    "            city.name as destination,\n",
    "            REDUCE (sc=0, c in COLLECT(city) | sc+1 ) AS score\n",
    "        RETURN\n",
    "            product_type as product,\n",
    "            destination,\n",
    "            score\n",
    "        ORDER BY\n",
    "            score DESC\n",
    "        LIMIT 10\n",
    "    \"\"\" % (email, time_window, time_window)"
   ]
  },
  {
   "cell_type": "code",
   "execution_count": null,
   "metadata": {},
   "outputs": [],
   "source": [
    "query = products_recomendations_by_destination_for_searcher_user(\n",
    "    email=\"juanmanuel.bouvier@almundo.com\",\n",
    "    time_window = 60  # In days\n",
    ")\n",
    "columns_to_show = ['product', 'destination', 'score']\n",
    "\n",
    "client.query(lambda tx: to_table(tx.run(query), columns_to_show))"
   ]
  },
  {
   "cell_type": "markdown",
   "metadata": {},
   "source": [
    "5. 4. Agregarle destinos que comparten un mismo pais o region pero a estos darle un score menor. Es decir los prodcutos que comparten el destino"
   ]
  }
 ],
 "metadata": {
  "kernelspec": {
   "display_name": "Python 3",
   "language": "python",
   "name": "python3"
  },
  "language_info": {
   "codemirror_mode": {
    "name": "ipython",
    "version": 3
   },
   "file_extension": ".py",
   "mimetype": "text/x-python",
   "name": "python",
   "nbconvert_exporter": "python",
   "pygments_lexer": "ipython3",
   "version": "3.8.3"
  }
 },
 "nbformat": 4,
 "nbformat_minor": 4
}
