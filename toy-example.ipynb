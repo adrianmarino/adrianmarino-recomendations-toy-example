{
 "cells": [
  {
   "cell_type": "markdown",
   "metadata": {},
   "source": [
    "# Tourism recommendation system\n",
    "\n",
    "A toy example."
   ]
  },
  {
   "cell_type": "code",
   "execution_count": 5,
   "metadata": {},
   "outputs": [],
   "source": [
    "%%capture\n",
    "%load_ext autoreload\n",
    "%autoreload 2"
   ]
  },
  {
   "cell_type": "code",
   "execution_count": 6,
   "metadata": {},
   "outputs": [],
   "source": [
    "from src.repository import DatabaseClient, to_table, \\\n",
    "    CityRepository, CountryRepository, RegionRepository, \\\n",
    "    UserRepository, AirlineRepository, HotelRepository, \\\n",
    "    City, Country, Region, User, Airline, Hotel\n",
    "\n",
    "from src.entity_loader import EntityLoader, CityMapper, RegionMapper, \\\n",
    "   UserMapper, CountryMapper, AirlineMapper, HotelMapper\n",
    "\n",
    "from time import sleep\n",
    "import os \n",
    "from IPython.display import Image"
   ]
  },
  {
   "cell_type": "code",
   "execution_count": 7,
   "metadata": {},
   "outputs": [],
   "source": [
    "def now_str():\n",
    "    import datetime\n",
    "    datetime = datetime.datetime.now()\n",
    "    return \"{:%Y-%m-%dT%H:%M:%S}\".format(datetime)"
   ]
  },
  {
   "cell_type": "markdown",
   "metadata": {},
   "source": [
    "## Setup database"
   ]
  },
  {
   "cell_type": "markdown",
   "metadata": {},
   "source": [
    "#### Download neo4j"
   ]
  },
  {
   "cell_type": "code",
   "execution_count": 8,
   "metadata": {},
   "outputs": [
    {
     "name": "stdout",
     "output_type": "stream",
     "text": [
      "Neo4j server already downloaded!\n"
     ]
    }
   ],
   "source": [
    "if os.path.isfile('./nj'): \n",
    "    # download 3.5.8 or neo4j-enterprise-4.0.0-alpha09mr02-unix\n",
    "    !curl https://neo4j.com/artifact.php?name=neo4j-community-3.5.8-unix.tar.gz -o neo4j.tar.gz\n",
    "    # decompress and rename\n",
    "    !tar -xf neo4j.tar.gz  # or --strip-components=1\n",
    "    !mv neo4j-community-3.5.8 nj\n",
    "    # disable password, and start server\n",
    "    !sed -i '/#dbms.security.auth_enabled/s/^#//g' nj/conf/neo4j.conf\n",
    "    print(\"Neo4j server downloaded!\")\n",
    "else:\n",
    "    print(\"Neo4j server already downloaded!\")"
   ]
  },
  {
   "cell_type": "markdown",
   "metadata": {},
   "source": [
    "#### Start/Stop neo4j database server"
   ]
  },
  {
   "cell_type": "code",
   "execution_count": 9,
   "metadata": {},
   "outputs": [
    {
     "name": "stdout",
     "output_type": "stream",
     "text": [
      "WARNING! You are using an unsupported Java runtime. \n",
      "* Please use Oracle(R) Java(TM) 8, OpenJDK(TM) or IBM J9 to run Neo4j.\n",
      "* Please see https://neo4j.com/docs/ for Neo4j installation instructions.\n",
      "Neo4j not running\n",
      "Starting Neo4j.\n",
      "WARNING: Max 4096 open files allowed, minimum of 40000 recommended. See the Neo4j manual.\n",
      "Started neo4j (pid 436314). It is available at http://localhost:7474/\n",
      "There may be a short delay until the server is ready.\n",
      "See /home/adrian/development/machine-learning/tourism-recommendation-system/nj/logs/neo4j.log for current status.\n"
     ]
    }
   ],
   "source": [
    "!nj/bin/neo4j restart"
   ]
  },
  {
   "cell_type": "code",
   "execution_count": 10,
   "metadata": {},
   "outputs": [],
   "source": [
    "sleep(5)"
   ]
  },
  {
   "cell_type": "code",
   "execution_count": 76,
   "metadata": {},
   "outputs": [
    {
     "name": "stdout",
     "output_type": "stream",
     "text": [
      "Stopping Neo4j.. stopped\n"
     ]
    }
   ],
   "source": [
    "# !nj/bin/neo4j stop"
   ]
  },
  {
   "cell_type": "markdown",
   "metadata": {},
   "source": [
    "## Prepare data access"
   ]
  },
  {
   "cell_type": "markdown",
   "metadata": {},
   "source": [
    "####  1. Create database client"
   ]
  },
  {
   "cell_type": "code",
   "execution_count": 12,
   "metadata": {},
   "outputs": [],
   "source": [
    "USERNAME = PASSWORD = \"neo4j\"\n",
    "URL = \"bolt://localhost:7687\"\n",
    "\n",
    "client = DatabaseClient(URL, USERNAME, PASSWORD)"
   ]
  },
  {
   "cell_type": "markdown",
   "metadata": {},
   "source": [
    "### 2. Create repositories"
   ]
  },
  {
   "cell_type": "code",
   "execution_count": 13,
   "metadata": {},
   "outputs": [],
   "source": [
    "city_repository = CityRepository(client)\n",
    "\n",
    "country_repository = CountryRepository(client)\n",
    "\n",
    "region_repository = RegionRepository(client)\n",
    "\n",
    "user_repository = UserRepository(client)\n",
    "\n",
    "airline_repository = AirlineRepository(client)\n",
    "\n",
    "hotel_repository = HotelRepository(client)"
   ]
  },
  {
   "cell_type": "markdown",
   "metadata": {},
   "source": [
    "## Prepare database"
   ]
  },
  {
   "cell_type": "markdown",
   "metadata": {},
   "source": [
    "#### 1. Remove all nodes"
   ]
  },
  {
   "cell_type": "code",
   "execution_count": 14,
   "metadata": {},
   "outputs": [],
   "source": [
    "client.run(\"MATCH (n) DETACH DELETE n\")"
   ]
  },
  {
   "cell_type": "markdown",
   "metadata": {},
   "source": [
    "#### 2. Load cities"
   ]
  },
  {
   "cell_type": "code",
   "execution_count": 15,
   "metadata": {},
   "outputs": [
    {
     "name": "stdout",
     "output_type": "stream",
     "text": [
      "Cities: 6\n"
     ]
    }
   ],
   "source": [
    "cities = list(EntityLoader.load_map('database/cities.json', CityMapper()))\n",
    "\n",
    "print(f'Cities: {len(cities)}')"
   ]
  },
  {
   "cell_type": "code",
   "execution_count": 16,
   "metadata": {},
   "outputs": [
    {
     "data": {
      "application/vnd.jupyter.widget-view+json": {
       "model_id": "6256b6d134c849ea859f4724dc0199e2",
       "version_major": 2,
       "version_minor": 0
      },
      "text/plain": [
       "HBox(children=(FloatProgress(value=0.0, max=6.0), HTML(value='')))"
      ]
     },
     "metadata": {},
     "output_type": "display_data"
    },
    {
     "name": "stdout",
     "output_type": "stream",
     "text": [
      "\n"
     ]
    }
   ],
   "source": [
    "city_repository.upsert(cities)"
   ]
  },
  {
   "cell_type": "markdown",
   "metadata": {},
   "source": [
    "Cities"
   ]
  },
  {
   "cell_type": "code",
   "execution_count": 17,
   "metadata": {},
   "outputs": [
    {
     "name": "stdout",
     "output_type": "stream",
     "text": [
      "BUE Buenos Aires\n",
      "COR Cordoba Capital\n",
      "SLA Salta capital\n",
      "BCN Barcelona\n",
      "RIO Rio do Janeiro\n",
      "MIA Miami\n"
     ]
    }
   ],
   "source": [
    "for e in cities: print(e.code, e.name)"
   ]
  },
  {
   "cell_type": "markdown",
   "metadata": {},
   "source": [
    "#### 3. Load countries"
   ]
  },
  {
   "cell_type": "code",
   "execution_count": 18,
   "metadata": {},
   "outputs": [
    {
     "name": "stdout",
     "output_type": "stream",
     "text": [
      "Countries: 4\n"
     ]
    }
   ],
   "source": [
    "countries = list(EntityLoader.load_map('database/countries.json', CountryMapper()))\n",
    "\n",
    "print(f'Countries: {len(countries)}')"
   ]
  },
  {
   "cell_type": "code",
   "execution_count": 19,
   "metadata": {},
   "outputs": [
    {
     "data": {
      "application/vnd.jupyter.widget-view+json": {
       "model_id": "f505d6f4d2824db6a106de8a0ab78d3c",
       "version_major": 2,
       "version_minor": 0
      },
      "text/plain": [
       "HBox(children=(FloatProgress(value=0.0, max=4.0), HTML(value='')))"
      ]
     },
     "metadata": {},
     "output_type": "display_data"
    },
    {
     "name": "stdout",
     "output_type": "stream",
     "text": [
      "\n"
     ]
    }
   ],
   "source": [
    "country_repository.upsert(countries)"
   ]
  },
  {
   "cell_type": "markdown",
   "metadata": {},
   "source": [
    "Countries"
   ]
  },
  {
   "cell_type": "code",
   "execution_count": 20,
   "metadata": {},
   "outputs": [
    {
     "name": "stdout",
     "output_type": "stream",
     "text": [
      "ARG Argentina\n",
      "ESP Spain\n",
      "BRA Brazil\n",
      "USA United States\n"
     ]
    }
   ],
   "source": [
    "for e in countries: print(e.code, e.name)"
   ]
  },
  {
   "cell_type": "markdown",
   "metadata": {},
   "source": [
    "#### 4. Load global regions"
   ]
  },
  {
   "cell_type": "code",
   "execution_count": 21,
   "metadata": {},
   "outputs": [
    {
     "name": "stdout",
     "output_type": "stream",
     "text": [
      "Global Regions: 7\n"
     ]
    }
   ],
   "source": [
    "regions = list(EntityLoader.load_map('database/regions.json', RegionMapper()))\n",
    "\n",
    "print(f'Global Regions: {len(regions)}')"
   ]
  },
  {
   "cell_type": "code",
   "execution_count": 22,
   "metadata": {},
   "outputs": [
    {
     "data": {
      "application/vnd.jupyter.widget-view+json": {
       "model_id": "ce30630660b94930b08a7a9eb6dea862",
       "version_major": 2,
       "version_minor": 0
      },
      "text/plain": [
       "HBox(children=(FloatProgress(value=0.0, max=7.0), HTML(value='')))"
      ]
     },
     "metadata": {},
     "output_type": "display_data"
    },
    {
     "name": "stdout",
     "output_type": "stream",
     "text": [
      "\n"
     ]
    }
   ],
   "source": [
    "region_repository.upsert(regions)"
   ]
  },
  {
   "cell_type": "markdown",
   "metadata": {},
   "source": [
    "Regions"
   ]
  },
  {
   "cell_type": "code",
   "execution_count": 23,
   "metadata": {},
   "outputs": [
    {
     "name": "stdout",
     "output_type": "stream",
     "text": [
      "AF Africa\n",
      "CB El caribe\n",
      "CA Centro America\n",
      "EU Europa\n",
      "NA Norte America\n",
      "OC Oceania\n",
      "SA Sud America\n"
     ]
    }
   ],
   "source": [
    "for e in regions: print(e.code, e.name)"
   ]
  },
  {
   "cell_type": "markdown",
   "metadata": {},
   "source": [
    "#### 5. Load users"
   ]
  },
  {
   "cell_type": "code",
   "execution_count": 24,
   "metadata": {},
   "outputs": [
    {
     "name": "stdout",
     "output_type": "stream",
     "text": [
      "Users: 7 / User(id=1, email='adrian.marino@almundo.com', realm='ALMUNDO-ALMUNDO-EMPLOYEE')\n"
     ]
    }
   ],
   "source": [
    "users = list(EntityLoader.load_map('database/users.json', UserMapper()))\n",
    "\n",
    "print(f'Users: {len(users)} / {users[0]}')"
   ]
  },
  {
   "cell_type": "code",
   "execution_count": 25,
   "metadata": {},
   "outputs": [
    {
     "data": {
      "application/vnd.jupyter.widget-view+json": {
       "model_id": "da8d21745cdb44beb53b2136a3504abf",
       "version_major": 2,
       "version_minor": 0
      },
      "text/plain": [
       "HBox(children=(FloatProgress(value=0.0, max=7.0), HTML(value='')))"
      ]
     },
     "metadata": {},
     "output_type": "display_data"
    },
    {
     "name": "stdout",
     "output_type": "stream",
     "text": [
      "\n"
     ]
    }
   ],
   "source": [
    "user_repository.upsert(users)"
   ]
  },
  {
   "cell_type": "markdown",
   "metadata": {},
   "source": [
    "Users"
   ]
  },
  {
   "cell_type": "code",
   "execution_count": 26,
   "metadata": {},
   "outputs": [
    {
     "name": "stdout",
     "output_type": "stream",
     "text": [
      "adrian.marino@almundo.com\n",
      "juanmanuel.bouvier@almundo.com\n",
      "sofia.massobrio@almundo.com\n",
      "facundo.etchanchu@almundo.com\n",
      "kevin.klaus@almundo.com\n",
      "gonzalo.prieto@almundo.com\n",
      "diego.saez@almundo.com\n"
     ]
    }
   ],
   "source": [
    "for e in users: print(e.email)"
   ]
  },
  {
   "cell_type": "code",
   "execution_count": 27,
   "metadata": {},
   "outputs": [],
   "source": [
    "adrian = \"adrian.marino@almundo.com\"\n",
    "juanma = \"juanmanuel.bouvier@almundo.com\"\n",
    "sofi = \"sofia.massobrio@almundo.com\"\n",
    "facu = \"facundo.etchanchu@almundo.com\"\n",
    "kevo = \"kevin.klaus@almundo.com\"\n",
    "gonza = \"gonzalo.prieto@almundo.com\"\n",
    "diego = \"diego.saez@almundo.com\""
   ]
  },
  {
   "cell_type": "markdown",
   "metadata": {},
   "source": [
    "#### 6. Load airlines"
   ]
  },
  {
   "cell_type": "code",
   "execution_count": 28,
   "metadata": {},
   "outputs": [
    {
     "name": "stdout",
     "output_type": "stream",
     "text": [
      "Airlines: 9\n"
     ]
    }
   ],
   "source": [
    "airlines = list(EntityLoader.load_map('database/airlines.json', AirlineMapper()))\n",
    "\n",
    "print(f'Airlines: {len(airlines)}')"
   ]
  },
  {
   "cell_type": "code",
   "execution_count": 29,
   "metadata": {},
   "outputs": [
    {
     "data": {
      "application/vnd.jupyter.widget-view+json": {
       "model_id": "8ea66bd8db10402dbf02487a6ddf818e",
       "version_major": 2,
       "version_minor": 0
      },
      "text/plain": [
       "HBox(children=(FloatProgress(value=0.0, max=9.0), HTML(value='')))"
      ]
     },
     "metadata": {},
     "output_type": "display_data"
    },
    {
     "name": "stdout",
     "output_type": "stream",
     "text": [
      "\n"
     ]
    }
   ],
   "source": [
    "airline_repository.upsert(airlines)"
   ]
  },
  {
   "cell_type": "code",
   "execution_count": 30,
   "metadata": {},
   "outputs": [
    {
     "name": "stdout",
     "output_type": "stream",
     "text": [
      "AA American Airlines\n",
      "AR Aerolines Argentinas\n",
      "EK Emirates\n",
      "LA LATAM\n",
      "LH Lufthansa\n",
      "AF Air France\n",
      "AZ Alitalia\n",
      "AM Aeromexico\n",
      "QA Qantas Airways\n"
     ]
    }
   ],
   "source": [
    "for e in airlines: print(e.code, e.name)"
   ]
  },
  {
   "cell_type": "markdown",
   "metadata": {},
   "source": [
    "#### 7. Load Hotels"
   ]
  },
  {
   "cell_type": "code",
   "execution_count": 31,
   "metadata": {},
   "outputs": [
    {
     "name": "stdout",
     "output_type": "stream",
     "text": [
      "Hotels: 12\n"
     ]
    }
   ],
   "source": [
    "hotels = list(EntityLoader.load_map('database/hotels.json', HotelMapper()))\n",
    "\n",
    "print(f'Hotels: {len(hotels)}')"
   ]
  },
  {
   "cell_type": "code",
   "execution_count": 32,
   "metadata": {},
   "outputs": [
    {
     "data": {
      "application/vnd.jupyter.widget-view+json": {
       "model_id": "57be13781de14956b782e26caf931cb7",
       "version_major": 2,
       "version_minor": 0
      },
      "text/plain": [
       "HBox(children=(FloatProgress(value=0.0, max=12.0), HTML(value='')))"
      ]
     },
     "metadata": {},
     "output_type": "display_data"
    },
    {
     "name": "stdout",
     "output_type": "stream",
     "text": [
      "\n"
     ]
    }
   ],
   "source": [
    "hotel_repository.upsert(hotels)"
   ]
  },
  {
   "cell_type": "markdown",
   "metadata": {},
   "source": [
    "Hotels"
   ]
  },
  {
   "cell_type": "code",
   "execution_count": 33,
   "metadata": {},
   "outputs": [
    {
     "name": "stdout",
     "output_type": "stream",
     "text": [
      "1 Madagascar Palace\n",
      "2 See Palace Resort\n",
      "3 Beach Palace Resort\n",
      "4 Barcelona Hotel\n",
      "5 Malaga Hotel Resort\n",
      "6 Hotel Imperial\n",
      "7 Hotel procincial\n",
      "8 Posada Santana\n",
      "9 El rincon del descanso\n",
      "10 Rio See Resort\n",
      "11 Pipa Hotel\n",
      "12 Hakuna Matata Hotel Bar\n"
     ]
    }
   ],
   "source": [
    "for e in hotels: print(e.id, e.name)"
   ]
  },
  {
   "cell_type": "markdown",
   "metadata": {},
   "source": [
    "#### 8. Add citiy belong to country relation"
   ]
  },
  {
   "cell_type": "code",
   "execution_count": 34,
   "metadata": {},
   "outputs": [],
   "source": [
    "def city_belong_to_country(relation):\n",
    "    client.run(\"\"\"\n",
    "        MATCH\n",
    "            (city: City {code: '%s'}),\n",
    "            (country: Country {code: '%s'})\n",
    "        WITH\n",
    "            city,\n",
    "            country\n",
    "        MERGE\n",
    "            (city)-[:BELONG_TO]->(country)\n",
    "    \"\"\" %(relation['city'],relation['country'])\n",
    ")"
   ]
  },
  {
   "cell_type": "code",
   "execution_count": 35,
   "metadata": {},
   "outputs": [
    {
     "name": "stdout",
     "output_type": "stream",
     "text": [
      "Relations: 6\n"
     ]
    }
   ],
   "source": [
    "city_country_relations = list(EntityLoader.load('database/city-country.json'))\n",
    "print(f'Relations: {len(city_country_relations)}')"
   ]
  },
  {
   "cell_type": "code",
   "execution_count": 36,
   "metadata": {},
   "outputs": [],
   "source": [
    "for r in city_country_relations: city_belong_to_country(r)"
   ]
  },
  {
   "cell_type": "code",
   "execution_count": 37,
   "metadata": {},
   "outputs": [
    {
     "name": "stdout",
     "output_type": "stream",
     "text": [
      "BUE ARG\n",
      "COR ARG\n",
      "SLA ARG\n",
      "BCN ESP\n",
      "RIO BRA\n",
      "MIA USA\n"
     ]
    }
   ],
   "source": [
    "for e in city_country_relations: print(e['city'], e['country'])"
   ]
  },
  {
   "cell_type": "markdown",
   "metadata": {},
   "source": [
    "#### 9. Add country belong to region relation"
   ]
  },
  {
   "cell_type": "code",
   "execution_count": 38,
   "metadata": {},
   "outputs": [
    {
     "data": {
      "image/png": "[encoded data removed]",
      "text/plain": [
       "<IPython.core.display.Image object>"
      ]
     },
     "execution_count": 38,
     "metadata": {},
     "output_type": "execute_result"
    }
   ],
   "source": [
    "Image(filename='images/region-country-city.png') "
   ]
  },
  {
   "cell_type": "code",
   "execution_count": 39,
   "metadata": {},
   "outputs": [],
   "source": [
    "def country_belong_to_region(relation):\n",
    "    client.run(\"\"\"\n",
    "        MATCH\n",
    "            (country: Country {code: '%s'}),\n",
    "            (region: Region {code: '%s'})\n",
    "        WITH\n",
    "            country,\n",
    "            region\n",
    "        MERGE\n",
    "            (country)-[:BELONG_TO]->(region)\n",
    "    \"\"\" %(relation['country'],relation['region'])\n",
    ")"
   ]
  },
  {
   "cell_type": "code",
   "execution_count": 40,
   "metadata": {},
   "outputs": [
    {
     "name": "stdout",
     "output_type": "stream",
     "text": [
      "Relations: 4\n"
     ]
    }
   ],
   "source": [
    "country_region_relations = list(EntityLoader.load('database/country-region.json'))\n",
    "print(f'Relations: {len(country_region_relations)}')"
   ]
  },
  {
   "cell_type": "code",
   "execution_count": 41,
   "metadata": {},
   "outputs": [],
   "source": [
    "for r in country_region_relations: country_belong_to_region(r)"
   ]
  },
  {
   "cell_type": "code",
   "execution_count": 42,
   "metadata": {},
   "outputs": [
    {
     "name": "stdout",
     "output_type": "stream",
     "text": [
      "ARG SA\n",
      "BRA SA\n",
      "ESP EU\n",
      "USA NA\n"
     ]
    }
   ],
   "source": [
    "for e in country_region_relations: print(e['country'], e['region'])"
   ]
  },
  {
   "cell_type": "markdown",
   "metadata": {},
   "source": [
    "#### 10. Add hotel located in city relation"
   ]
  },
  {
   "cell_type": "code",
   "execution_count": 43,
   "metadata": {},
   "outputs": [],
   "source": [
    "def hotel_belong_to_city(relation):\n",
    "    client.run(\"\"\"\n",
    "        MATCH\n",
    "            (hotel: Hotel {_id: '%s'}),\n",
    "            (city: City {code: '%s'})\n",
    "        WITH\n",
    "            hotel,\n",
    "            city\n",
    "        MERGE\n",
    "            (hotel)-[:LOCATED_IN]->(city)\n",
    "    \"\"\" %(relation['hotel_id'],relation['city_code'])\n",
    ")"
   ]
  },
  {
   "cell_type": "code",
   "execution_count": 44,
   "metadata": {},
   "outputs": [
    {
     "name": "stdout",
     "output_type": "stream",
     "text": [
      "Relations: 12\n"
     ]
    }
   ],
   "source": [
    "hotel_city_relations = list(EntityLoader.load('database/hotel-city.json'))\n",
    "print(f'Relations: {len(hotel_city_relations)}')"
   ]
  },
  {
   "cell_type": "code",
   "execution_count": 45,
   "metadata": {},
   "outputs": [],
   "source": [
    "for r in hotel_city_relations: hotel_belong_to_city(r)"
   ]
  },
  {
   "cell_type": "code",
   "execution_count": 46,
   "metadata": {},
   "outputs": [
    {
     "name": "stdout",
     "output_type": "stream",
     "text": [
      "1 MIA\n",
      "2 MIA\n",
      "3 MIA\n",
      "4 BCN\n",
      "5 BCN\n",
      "6 BCN\n",
      "7 SLA\n",
      "8 SLA\n",
      "9 SLA\n",
      "10 RIO\n",
      "11 RIO\n",
      "12 RIO\n"
     ]
    }
   ],
   "source": [
    "for e in hotel_city_relations: print(e['hotel_id'], e['city_code'])"
   ]
  },
  {
   "cell_type": "code",
   "execution_count": 47,
   "metadata": {},
   "outputs": [],
   "source": [
    "hotel_mia = [1, 2, 3]\n",
    "hotel_bcn = [4, 5, 6]\n",
    "hotel_sla = [7, 8, 9]\n",
    "hotel_rio = [10, 11, 12]"
   ]
  },
  {
   "cell_type": "markdown",
   "metadata": {},
   "source": [
    "#### 10. Create products search events"
   ]
  },
  {
   "cell_type": "code",
   "execution_count": 48,
   "metadata": {},
   "outputs": [],
   "source": [
    "sleep(10)"
   ]
  },
  {
   "cell_type": "code",
   "execution_count": 49,
   "metadata": {},
   "outputs": [
    {
     "data": {
      "image/png": "[encoded data removed]",
      "text/plain": [
       "<IPython.core.display.Image object>"
      ]
     },
     "execution_count": 49,
     "metadata": {},
     "output_type": "execute_result"
    }
   ],
   "source": [
    "Image(filename='images/flight-search.png') "
   ]
  },
  {
   "cell_type": "code",
   "execution_count": 50,
   "metadata": {},
   "outputs": [],
   "source": [
    "def flight_search_event(\n",
    "    email,\n",
    "    from_city,\n",
    "    to_city,\n",
    "    from_datetime=\"2021-01-01T20:00:0\",\n",
    "    to_datetime=\"2021-01-15T20:00:0\",\n",
    "    adults=2,\n",
    "    children=2,\n",
    "    infants=1,\n",
    "    search_datetime=now_str(),\n",
    "    times=1\n",
    "):\n",
    "    for search_number in range(times):\n",
    "        client.run(\"\"\"\n",
    "            MATCH\n",
    "                (fromCity: City {code: '%s'}), \n",
    "                (toCity: City {code: '%s'}),\n",
    "                (user: User {email: '%s'})\n",
    "            WITH\n",
    "                fromCity, toCity, user\n",
    "            CREATE\n",
    "                (search:FlightSearchEvent {\n",
    "                    product_type: 'FLIGHT',\n",
    "                    from: datetime('%s'),\n",
    "                    to: datetime('%s')\n",
    "                }),\n",
    "\n",
    "                (search)-[:FROM_LOCATION]->(fromCity), \n",
    "                (search)-[:TO_LOCATION]->(toCity),\n",
    "\n",
    "                (search)-[:FOR]->(:Persons{adults:%s, children: %s, infants: %s}),\n",
    "\n",
    "                (user)-[:SEARCHED {datetime: datetime(\"%s\") - duration('P%sD')}]->(search)\n",
    "\n",
    "            \"\"\" % (from_city, to_city, email, from_datetime, to_datetime, adults, children, infants, search_datetime, search_number)\n",
    "        )"
   ]
  },
  {
   "cell_type": "code",
   "execution_count": 51,
   "metadata": {},
   "outputs": [
    {
     "data": {
      "image/png": "[encoded data removed]",
      "text/plain": [
       "<IPython.core.display.Image object>"
      ]
     },
     "execution_count": 51,
     "metadata": {},
     "output_type": "execute_result"
    }
   ],
   "source": [
    "Image(filename='images/hotel-search.png') "
   ]
  },
  {
   "cell_type": "code",
   "execution_count": 52,
   "metadata": {},
   "outputs": [],
   "source": [
    "def hotel_search_event(\n",
    "    email,\n",
    "    city,\n",
    "    from_datetime=\"2021-01-01T20:00:0\",\n",
    "    to_datetime=\"2021-01-15T20:00:0\",\n",
    "    adults=2,\n",
    "    children=2,\n",
    "    infants=1,\n",
    "    search_datetime=now_str(),\n",
    "    times=1\n",
    "):\n",
    "    for search_number in range(times):\n",
    "        client.run(\"\"\"\n",
    "            MATCH\n",
    "                (city: City {code: '%s'}),\n",
    "                (user: User {email: '%s'})\n",
    "            WITH\n",
    "                city, user\n",
    "            CREATE\n",
    "                (search:HotelSearchEvent {\n",
    "                    product_type: 'HOTEL',\n",
    "                    from: datetime('%s'),\n",
    "                    to: datetime('%s')\n",
    "                }),\n",
    "                (search)-[:IN_LOCATION]->(city), \n",
    "                (search)-[:FOR]->(:Persons{adults: %s, children: %s, infants: %s}),\n",
    "                (user)-[:SEARCHED {datetime: datetime(\"%s\") - duration('P%sD')}]->(search)\n",
    "\n",
    "            \"\"\" % (city, email, from_datetime, to_datetime, adults, children, infants, search_datetime, search_number)\n",
    "        )"
   ]
  },
  {
   "cell_type": "markdown",
   "metadata": {},
   "source": [
    "**WAIT!!!: Wait for it to finish prevous nodes and relations creation**"
   ]
  },
  {
   "cell_type": "markdown",
   "metadata": {},
   "source": [
    "Adrian searches: "
   ]
  },
  {
   "cell_type": "code",
   "execution_count": 53,
   "metadata": {},
   "outputs": [],
   "source": [
    "flight_search_event(email=adrian, from_city=\"BUE\", to_city=\"MIA\", times=3)\n",
    "hotel_search_event(email=adrian, city=\"MIA\", times=8)\n",
    "\n",
    "flight_search_event(email=adrian, from_city=\"BUE\", to_city=\"SLA\", times=10)\n",
    "hotel_search_event(email=adrian, city=\"SLA\", times= 10)\n",
    "\n",
    "flight_search_event(email=adrian, from_city=\"BUE\", to_city=\"BCN\", times= 5)\n",
    "hotel_search_event(email=adrian, city=\"BCN\", times=10)"
   ]
  },
  {
   "cell_type": "markdown",
   "metadata": {},
   "source": [
    "Juan manuel searches:"
   ]
  },
  {
   "cell_type": "code",
   "execution_count": 54,
   "metadata": {},
   "outputs": [],
   "source": [
    "flight_search_event(email=juanma, from_city=\"COR\", to_city=\"SLA\", times=10)"
   ]
  },
  {
   "cell_type": "markdown",
   "metadata": {},
   "source": [
    "Sofia searches:"
   ]
  },
  {
   "cell_type": "code",
   "execution_count": 55,
   "metadata": {},
   "outputs": [],
   "source": [
    "flight_search_event(email=sofi, from_city=\"BUE\", to_city=\"RIO\", times=15)\n",
    "flight_search_event(email=sofi, from_city=\"RIO\", to_city=\"BCN\", times=10)\n",
    "flight_search_event(email=sofi, from_city=\"BUE\", to_city=\"MIA\", times=8)\n",
    "flight_search_event(email=sofi, from_city=\"COR\", to_city=\"SLA\", times=3)\n",
    "flight_search_event(email=sofi, from_city=\"SLA\", to_city=\"COR\", times=5)"
   ]
  },
  {
   "cell_type": "markdown",
   "metadata": {},
   "source": [
    "Kevin searches:"
   ]
  },
  {
   "cell_type": "code",
   "execution_count": 56,
   "metadata": {},
   "outputs": [],
   "source": [
    "flight_search_event(email=kevo, from_city=\"COR\", to_city=\"SLA\", times=4)\n",
    "flight_search_event(email=kevo, from_city=\"BUE\", to_city=\"MIA\", times=5)\n",
    "\n",
    "hotel_search_event(email=kevo, city=\"MIA\", times=5)\n",
    "hotel_search_event(email=kevo, city=\"COR\", times=5)\n",
    "hotel_search_event(email=kevo, city=\"SLA\", times=5)"
   ]
  },
  {
   "cell_type": "markdown",
   "metadata": {},
   "source": [
    "Facundo searches:"
   ]
  },
  {
   "cell_type": "code",
   "execution_count": 57,
   "metadata": {},
   "outputs": [],
   "source": [
    "hotel_search_event(email=facu, city=\"BCN\", times=5)\n",
    "hotel_search_event(email=facu, city=\"MIA\", times=5)\n",
    "hotel_search_event(email=facu, city=\"RIO\", times=5)\n",
    "\n",
    "flight_search_event(email=facu, from_city=\"BUE\", to_city=\"RIO\", times=5)\n",
    "flight_search_event(email=facu, from_city=\"BUE\", to_city=\"SLA\", times=10)\n",
    "flight_search_event(email=facu, from_city=\"BUE\", to_city=\"BCN\", times=5)"
   ]
  },
  {
   "cell_type": "markdown",
   "metadata": {},
   "source": [
    "Diego searches:"
   ]
  },
  {
   "cell_type": "code",
   "execution_count": 58,
   "metadata": {},
   "outputs": [],
   "source": [
    "hotel_search_event(email=diego, city=\"BCN\", times=5)\n",
    "hotel_search_event(email=diego, city=\"MIA\", times=5)\n",
    "hotel_search_event(email=diego, city=\"RIO\", times=5)\n",
    "\n",
    "flight_search_event(email=diego, from_city=\"BUE\", to_city=\"RIO\", times=5)\n",
    "flight_search_event(email=diego, from_city=\"BUE\", to_city=\"SLA\", times=5)\n",
    "flight_search_event(email=diego, from_city=\"BUE\", to_city=\"BCN\", times=5)"
   ]
  },
  {
   "cell_type": "markdown",
   "metadata": {},
   "source": [
    "#### 9. Add product purchases"
   ]
  },
  {
   "cell_type": "code",
   "execution_count": 59,
   "metadata": {},
   "outputs": [
    {
     "data": {
      "image/png": "[encoded data removed]",
      "text/plain": [
       "<IPython.core.display.Image object>"
      ]
     },
     "execution_count": 59,
     "metadata": {},
     "output_type": "execute_result"
    }
   ],
   "source": [
    "Image(filename='images/flight-reservation.png') "
   ]
  },
  {
   "cell_type": "code",
   "execution_count": 60,
   "metadata": {},
   "outputs": [],
   "source": [
    "def flight_purchease(\n",
    "    email,\n",
    "    from_city,\n",
    "    to_city,\n",
    "    airline,\n",
    "    from_datetime=\"2021-01-01T20:00:0\",\n",
    "    to_datetime=\"2021-01-15T20:00:0\",\n",
    "    adults=2,\n",
    "    children=2,\n",
    "    infants=1,\n",
    "    datetime=now_str(),\n",
    "    times=1\n",
    "):\n",
    "    for number in range(times):\n",
    "        client.run(\"\"\"\n",
    "            MATCH \n",
    "                (fromCity: City {code: '%s'}),\n",
    "                (toCity: City {code: '%s'}),\n",
    "                (user: User{email: '%s'}),\n",
    "                (airline: Airline {code: '%s'})\n",
    "            WITH\n",
    "                fromCity, toCity, user, airline\n",
    "\n",
    "            CREATE\n",
    "                (reservation: FlightReservation {\n",
    "                    product_type: 'flight',\n",
    "                    from: datetime('%s'),\n",
    "                    to: datetime('%s')\n",
    "                }),\n",
    "\n",
    "                (reservation)-[:TO_TRAVEL_WITH]->(airline),\n",
    "\n",
    "                (reservation)-[:FROM_LOCATION]->(fromCity),\n",
    "                (reservation)-[:TO_LOCATION]->(toCity),\n",
    "\n",
    "                (reservation)-[:FOR]->(:Persons{adults: %s, children: %s, infants: %s}),\n",
    "\n",
    "                (user)-[:PURCHASE {datetime: datetime('%s') - duration('P%sD')}]->(reservation)\n",
    "\n",
    "            \"\"\" % (from_city, to_city, email, airline, from_datetime, to_datetime, adults, children, infants, datetime, number * 3)\n",
    "        )"
   ]
  },
  {
   "cell_type": "code",
   "execution_count": 61,
   "metadata": {},
   "outputs": [
    {
     "data": {
      "image/png": "[encoded data removed]",
      "text/plain": [
       "<IPython.core.display.Image object>"
      ]
     },
     "execution_count": 61,
     "metadata": {},
     "output_type": "execute_result"
    }
   ],
   "source": [
    "Image(filename='images/hotel-reservation.png') "
   ]
  },
  {
   "cell_type": "code",
   "execution_count": 62,
   "metadata": {},
   "outputs": [],
   "source": [
    "def hotel_purchease(\n",
    "    email,\n",
    "    hotel_id,\n",
    "    from_datetime=\"2021-01-01T20:00:0\",\n",
    "    to_datetime=\"2021-01-15T20:00:0\",\n",
    "    adults=2,\n",
    "    children=2,\n",
    "    infants=1,\n",
    "    datetime=now_str(),\n",
    "    times=1\n",
    "):\n",
    "    for number in range(times):\n",
    "        client.run(\"\"\"\n",
    "            MATCH \n",
    "                (hotel: Hotel {_id: '%s'}),\n",
    "                (user: User{email: '%s'})\n",
    "            WITH\n",
    "                hotel, user\n",
    "            CREATE\n",
    "                (reservation: HotelReservation {\n",
    "                    product_type: 'hotel',\n",
    "                    from: datetime('%s'),\n",
    "                    to: datetime('%s')\n",
    "                }),\n",
    "\n",
    "                (reservation)-[:TO_STAY_IN]->(hotel),\n",
    "\n",
    "                (reservation)-[:FOR]->(:Persons{adults: %s, children: %s, infants: %s}),\n",
    "\n",
    "                (user)-[:PURCHASE {datetime: datetime('%s') - duration('P%sD')}]->(reservation)\n",
    "                \n",
    "            \"\"\" % (hotel_id, email, from_datetime, to_datetime, adults, children, infants, datetime, number * 5)\n",
    "        )"
   ]
  },
  {
   "cell_type": "markdown",
   "metadata": {},
   "source": [
    "Adrian purchases:"
   ]
  },
  {
   "cell_type": "code",
   "execution_count": 63,
   "metadata": {},
   "outputs": [],
   "source": [
    "flight_purchease(email=adrian, from_city=\"BUE\", to_city=\"MIA\", airline=\"LA\")\n",
    "hotel_purchease(email=adrian, hotel_id = hotel_mia[0])\n",
    "\n",
    "flight_purchease(email=adrian, from_city=\"BUE\", to_city=\"RIO\", airline=\"EK\")\n",
    "hotel_purchease(email=adrian, hotel_id = hotel_rio[0])\n",
    "\n",
    "flight_purchease(email=adrian, from_city=\"COR\", to_city=\"SLA\", airline=\"AR\")\n",
    "hotel_purchease(email=adrian, hotel_id = hotel_sla[0])"
   ]
  },
  {
   "cell_type": "markdown",
   "metadata": {},
   "source": [
    "Juan manuel purchases:"
   ]
  },
  {
   "cell_type": "code",
   "execution_count": 64,
   "metadata": {},
   "outputs": [],
   "source": [
    "flight_purchease(email=juanma, from_city=\"COR\", to_city=\"SLA\", airline=\"LA\")\n",
    "hotel_purchease(email=juanma, hotel_id = hotel_rio[1])\n",
    "\n",
    "flight_purchease(email=juanma, from_city=\"SLA\", to_city=\"RIO\", airline=\"LA\")\n",
    "hotel_purchease(email=juanma, hotel_id = hotel_rio[2])\n",
    "\n",
    "flight_purchease(email=juanma, from_city=\"SLA\", to_city=\"RIO\", airline=\"LA\")\n",
    "hotel_purchease(email=juanma, hotel_id = hotel_rio[0])"
   ]
  },
  {
   "cell_type": "markdown",
   "metadata": {},
   "source": [
    "Sofia purchases:"
   ]
  },
  {
   "cell_type": "code",
   "execution_count": 65,
   "metadata": {},
   "outputs": [],
   "source": [
    "flight_purchease(email=sofi, from_city=\"BUE\", to_city=\"RIO\", airline=\"AA\")\n",
    "hotel_purchease(email=sofi, hotel_id = hotel_rio[0])\n",
    "\n",
    "flight_purchease(email=sofi, from_city=\"BUE\", to_city=\"SLA\", airline=\"LA\")\n",
    "hotel_purchease(email=sofi, hotel_id = hotel_sla[1])"
   ]
  },
  {
   "cell_type": "markdown",
   "metadata": {},
   "source": [
    "Kevin purchases:"
   ]
  },
  {
   "cell_type": "code",
   "execution_count": 66,
   "metadata": {},
   "outputs": [],
   "source": [
    "hotel_purchease(email=kevo, hotel_id = hotel_bcn[0])\n",
    "\n",
    "flight_purchease(email=kevo, from_city=\"COR\", to_city=\"SLA\", airline=\"LA\")\n",
    "hotel_purchease(email=kevo, hotel_id = hotel_sla[1])"
   ]
  },
  {
   "cell_type": "markdown",
   "metadata": {},
   "source": [
    "Facundo purchases:"
   ]
  },
  {
   "cell_type": "code",
   "execution_count": 67,
   "metadata": {},
   "outputs": [],
   "source": [
    "hotel_purchease(email=facu, hotel_id = hotel_mia[2])\n",
    "hotel_purchease(email=facu, hotel_id = hotel_bcn[0])\n",
    "hotel_purchease(email=facu, hotel_id = hotel_rio[2])\n",
    "hotel_purchease(email=facu, hotel_id = hotel_sla[1])"
   ]
  },
  {
   "cell_type": "markdown",
   "metadata": {},
   "source": [
    "Gonza purchases:"
   ]
  },
  {
   "cell_type": "code",
   "execution_count": 68,
   "metadata": {},
   "outputs": [],
   "source": [
    "flight_purchease(email=gonza, from_city=\"BUE\", to_city=\"MIA\", airline=\"AA\")\n",
    "hotel_purchease(email=gonza, hotel_id = hotel_mia[1])\n",
    "\n",
    "flight_purchease(email=gonza, from_city=\"BUE\", to_city=\"RIO\", airline=\"AA\")\n",
    "hotel_purchease(email=gonza, hotel_id = hotel_rio[2])\n",
    "\n",
    "flight_purchease(email=gonza, from_city=\"BUE\", to_city=\"BCN\", airline=\"EK\")\n",
    "hotel_purchease(email=gonza, hotel_id = hotel_sla[1])"
   ]
  },
  {
   "cell_type": "markdown",
   "metadata": {},
   "source": [
    "## Query trends and recomendations"
   ]
  },
  {
   "cell_type": "code",
   "execution_count": 69,
   "metadata": {},
   "outputs": [],
   "source": [
    "sleep(10)"
   ]
  },
  {
   "cell_type": "markdown",
   "metadata": {},
   "source": [
    "#### 1. Give me top 5 more purchased flighs by destination and airline in the last 60 days"
   ]
  },
  {
   "cell_type": "code",
   "execution_count": 70,
   "metadata": {},
   "outputs": [
    {
     "data": {
      "text/html": [
       "<div>\n",
       "<style scoped>\n",
       "    .dataframe tbody tr th:only-of-type {\n",
       "        vertical-align: middle;\n",
       "    }\n",
       "\n",
       "    .dataframe tbody tr th {\n",
       "        vertical-align: top;\n",
       "    }\n",
       "\n",
       "    .dataframe thead th {\n",
       "        text-align: right;\n",
       "    }\n",
       "</style>\n",
       "<table border=\"1\" class=\"dataframe\">\n",
       "  <thead>\n",
       "    <tr style=\"text-align: right;\">\n",
       "      <th></th>\n",
       "      <th>SCORE</th>\n",
       "      <th>DESTINATION</th>\n",
       "      <th>AIRLINE</th>\n",
       "    </tr>\n",
       "  </thead>\n",
       "  <tbody>\n",
       "    <tr>\n",
       "      <th>0</th>\n",
       "      <td>3</td>\n",
       "      <td>Salta capital</td>\n",
       "      <td>LATAM</td>\n",
       "    </tr>\n",
       "    <tr>\n",
       "      <th>1</th>\n",
       "      <td>2</td>\n",
       "      <td>Rio do Janeiro</td>\n",
       "      <td>American Airlines</td>\n",
       "    </tr>\n",
       "    <tr>\n",
       "      <th>2</th>\n",
       "      <td>2</td>\n",
       "      <td>Rio do Janeiro</td>\n",
       "      <td>LATAM</td>\n",
       "    </tr>\n",
       "    <tr>\n",
       "      <th>3</th>\n",
       "      <td>1</td>\n",
       "      <td>Barcelona</td>\n",
       "      <td>Emirates</td>\n",
       "    </tr>\n",
       "    <tr>\n",
       "      <th>4</th>\n",
       "      <td>1</td>\n",
       "      <td>Miami</td>\n",
       "      <td>American Airlines</td>\n",
       "    </tr>\n",
       "  </tbody>\n",
       "</table>\n",
       "</div>"
      ],
      "text/plain": [
       "   SCORE     DESTINATION            AIRLINE\n",
       "0      3   Salta capital              LATAM\n",
       "1      2  Rio do Janeiro  American Airlines\n",
       "2      2  Rio do Janeiro              LATAM\n",
       "3      1       Barcelona           Emirates\n",
       "4      1           Miami  American Airlines"
      ]
     },
     "execution_count": 70,
     "metadata": {},
     "output_type": "execute_result"
    }
   ],
   "source": [
    "QUERY1 = \"\"\"\n",
    "MATCH   (:User)-[p:PURCHASE]->\n",
    "        (r)-[:TO_LOCATION]->\n",
    "        (c:City),\n",
    "        (r)-[:TO_TRAVEL_WITH]->(a:Airline)\n",
    "WHERE    \n",
    "    p.datetime >= (datetime() - duration('P60D'))\n",
    "RETURN\n",
    "    COUNT(*) as score,\n",
    "    c.name as destination,\n",
    "    a.name as airline\n",
    "ORDER BY\n",
    "    score DESC,\n",
    "    destination ASC,\n",
    "    airline ASC\n",
    "LIMIT 5\n",
    "\"\"\"\n",
    "columns=['score', 'destination', 'airline' ]\n",
    "\n",
    "client.query(lambda tx: to_table(tx.run(QUERY1), columns))"
   ]
  },
  {
   "cell_type": "markdown",
   "metadata": {},
   "source": [
    "#### 2. Give me top 5 more purchased hotels by destination in the last 60 days"
   ]
  },
  {
   "cell_type": "code",
   "execution_count": 71,
   "metadata": {},
   "outputs": [
    {
     "data": {
      "text/html": [
       "<div>\n",
       "<style scoped>\n",
       "    .dataframe tbody tr th:only-of-type {\n",
       "        vertical-align: middle;\n",
       "    }\n",
       "\n",
       "    .dataframe tbody tr th {\n",
       "        vertical-align: top;\n",
       "    }\n",
       "\n",
       "    .dataframe thead th {\n",
       "        text-align: right;\n",
       "    }\n",
       "</style>\n",
       "<table border=\"1\" class=\"dataframe\">\n",
       "  <thead>\n",
       "    <tr style=\"text-align: right;\">\n",
       "      <th></th>\n",
       "      <th>SCORE</th>\n",
       "      <th>DESTINATION</th>\n",
       "      <th>HOTEL</th>\n",
       "    </tr>\n",
       "  </thead>\n",
       "  <tbody>\n",
       "    <tr>\n",
       "      <th>0</th>\n",
       "      <td>4</td>\n",
       "      <td>Salta capital</td>\n",
       "      <td>Posada Santana</td>\n",
       "    </tr>\n",
       "    <tr>\n",
       "      <th>1</th>\n",
       "      <td>3</td>\n",
       "      <td>Rio do Janeiro</td>\n",
       "      <td>Hakuna Matata Hotel Bar</td>\n",
       "    </tr>\n",
       "    <tr>\n",
       "      <th>2</th>\n",
       "      <td>3</td>\n",
       "      <td>Rio do Janeiro</td>\n",
       "      <td>Rio See Resort</td>\n",
       "    </tr>\n",
       "    <tr>\n",
       "      <th>3</th>\n",
       "      <td>2</td>\n",
       "      <td>Barcelona</td>\n",
       "      <td>Barcelona Hotel</td>\n",
       "    </tr>\n",
       "    <tr>\n",
       "      <th>4</th>\n",
       "      <td>1</td>\n",
       "      <td>Miami</td>\n",
       "      <td>Madagascar Palace</td>\n",
       "    </tr>\n",
       "  </tbody>\n",
       "</table>\n",
       "</div>"
      ],
      "text/plain": [
       "   SCORE     DESTINATION                    HOTEL\n",
       "0      4   Salta capital           Posada Santana\n",
       "1      3  Rio do Janeiro  Hakuna Matata Hotel Bar\n",
       "2      3  Rio do Janeiro           Rio See Resort\n",
       "3      2       Barcelona          Barcelona Hotel\n",
       "4      1           Miami        Madagascar Palace"
      ]
     },
     "execution_count": 71,
     "metadata": {},
     "output_type": "execute_result"
    }
   ],
   "source": [
    "QUERY2 = \"\"\"\n",
    "MATCH   (:User)-[p:PURCHASE]->\n",
    "\t\t(:HotelReservation)-[:TO_STAY_IN]->\n",
    "        (h:Hotel)-[:LOCATED_IN]->\n",
    "        (c:City)\n",
    "WHERE    \n",
    "    p.datetime >= (datetime() - duration('P60D'))\n",
    "RETURN\n",
    "    COUNT(*) as score,\n",
    "    c.name as destination,\n",
    "    h.name as hotel\n",
    "ORDER BY\n",
    "    score DESC,\n",
    "    destination ASC\n",
    "LIMIT 5\n",
    "\n",
    "\"\"\"\n",
    "columns=['score', 'destination', 'hotel']\n",
    "\n",
    "client.query(lambda tx: to_table(tx.run(QUERY2), columns))"
   ]
  },
  {
   "cell_type": "markdown",
   "metadata": {},
   "source": [
    "#### 3. Give me top 5 more searched destination for flights in the last 60 days"
   ]
  },
  {
   "cell_type": "code",
   "execution_count": 72,
   "metadata": {},
   "outputs": [
    {
     "data": {
      "text/html": [
       "<div>\n",
       "<style scoped>\n",
       "    .dataframe tbody tr th:only-of-type {\n",
       "        vertical-align: middle;\n",
       "    }\n",
       "\n",
       "    .dataframe tbody tr th {\n",
       "        vertical-align: top;\n",
       "    }\n",
       "\n",
       "    .dataframe thead th {\n",
       "        text-align: right;\n",
       "    }\n",
       "</style>\n",
       "<table border=\"1\" class=\"dataframe\">\n",
       "  <thead>\n",
       "    <tr style=\"text-align: right;\">\n",
       "      <th></th>\n",
       "      <th>SCORE</th>\n",
       "      <th>DESTINATION</th>\n",
       "    </tr>\n",
       "  </thead>\n",
       "  <tbody>\n",
       "    <tr>\n",
       "      <th>0</th>\n",
       "      <td>42</td>\n",
       "      <td>Salta capital</td>\n",
       "    </tr>\n",
       "    <tr>\n",
       "      <th>1</th>\n",
       "      <td>25</td>\n",
       "      <td>Barcelona</td>\n",
       "    </tr>\n",
       "    <tr>\n",
       "      <th>2</th>\n",
       "      <td>25</td>\n",
       "      <td>Rio do Janeiro</td>\n",
       "    </tr>\n",
       "    <tr>\n",
       "      <th>3</th>\n",
       "      <td>16</td>\n",
       "      <td>Miami</td>\n",
       "    </tr>\n",
       "    <tr>\n",
       "      <th>4</th>\n",
       "      <td>5</td>\n",
       "      <td>Cordoba Capital</td>\n",
       "    </tr>\n",
       "  </tbody>\n",
       "</table>\n",
       "</div>"
      ],
      "text/plain": [
       "   SCORE      DESTINATION\n",
       "0     42    Salta capital\n",
       "1     25        Barcelona\n",
       "2     25   Rio do Janeiro\n",
       "3     16            Miami\n",
       "4      5  Cordoba Capital"
      ]
     },
     "execution_count": 72,
     "metadata": {},
     "output_type": "execute_result"
    }
   ],
   "source": [
    "QUERY3 = \"\"\"\n",
    "MATCH   (:User)-[s:SEARCHED]->\n",
    "        (e:FlightSearchEvent)-[:TO_LOCATION]->\n",
    "        (c:City)\n",
    "WHERE    \n",
    "    s.datetime >= (datetime() - duration('P60D'))\n",
    "RETURN\n",
    "    COUNT(*) as score,\n",
    "    c.name as destination\n",
    "ORDER BY\n",
    "    score DESC,\n",
    "    destination ASC\n",
    "LIMIT 5\n",
    "\n",
    "\"\"\"\n",
    "columns=['score', 'destination']\n",
    "\n",
    "client.query(lambda tx: to_table(tx.run(QUERY3), columns))"
   ]
  },
  {
   "cell_type": "markdown",
   "metadata": {},
   "source": [
    "#### 4. Give me top 5 more searched destination for hotels in the last 60 days"
   ]
  },
  {
   "cell_type": "code",
   "execution_count": 73,
   "metadata": {},
   "outputs": [
    {
     "data": {
      "text/html": [
       "<div>\n",
       "<style scoped>\n",
       "    .dataframe tbody tr th:only-of-type {\n",
       "        vertical-align: middle;\n",
       "    }\n",
       "\n",
       "    .dataframe tbody tr th {\n",
       "        vertical-align: top;\n",
       "    }\n",
       "\n",
       "    .dataframe thead th {\n",
       "        text-align: right;\n",
       "    }\n",
       "</style>\n",
       "<table border=\"1\" class=\"dataframe\">\n",
       "  <thead>\n",
       "    <tr style=\"text-align: right;\">\n",
       "      <th></th>\n",
       "      <th>SCORE</th>\n",
       "      <th>DESTINATION</th>\n",
       "    </tr>\n",
       "  </thead>\n",
       "  <tbody>\n",
       "    <tr>\n",
       "      <th>0</th>\n",
       "      <td>23</td>\n",
       "      <td>Miami</td>\n",
       "    </tr>\n",
       "    <tr>\n",
       "      <th>1</th>\n",
       "      <td>20</td>\n",
       "      <td>Barcelona</td>\n",
       "    </tr>\n",
       "    <tr>\n",
       "      <th>2</th>\n",
       "      <td>15</td>\n",
       "      <td>Salta capital</td>\n",
       "    </tr>\n",
       "    <tr>\n",
       "      <th>3</th>\n",
       "      <td>10</td>\n",
       "      <td>Rio do Janeiro</td>\n",
       "    </tr>\n",
       "    <tr>\n",
       "      <th>4</th>\n",
       "      <td>5</td>\n",
       "      <td>Cordoba Capital</td>\n",
       "    </tr>\n",
       "  </tbody>\n",
       "</table>\n",
       "</div>"
      ],
      "text/plain": [
       "   SCORE      DESTINATION\n",
       "0     23            Miami\n",
       "1     20        Barcelona\n",
       "2     15    Salta capital\n",
       "3     10   Rio do Janeiro\n",
       "4      5  Cordoba Capital"
      ]
     },
     "execution_count": 73,
     "metadata": {},
     "output_type": "execute_result"
    }
   ],
   "source": [
    "QUERY4 = \"\"\"\n",
    "MATCH   (:User)-[s:SEARCHED]->\n",
    "        (e:HotelSearchEvent)-[:IN_LOCATION]->\n",
    "        (c:City)\n",
    "WHERE    \n",
    "    s.datetime >= (datetime() - duration('P60D'))\n",
    "RETURN\n",
    "    COUNT(*) as score,\n",
    "    c.name as destination\n",
    "ORDER BY\n",
    "    score DESC,\n",
    "    destination ASC\n",
    "LIMIT 5\n",
    "\"\"\"\n",
    "columns=['score', 'destination']\n",
    "\n",
    "client.query(lambda tx: to_table(tx.run(QUERY4), columns))"
   ]
  },
  {
   "cell_type": "markdown",
   "metadata": {},
   "source": [
    "#### 5. Recommend hotels to users who bought flight to a given destination"
   ]
  },
  {
   "cell_type": "code",
   "execution_count": 74,
   "metadata": {},
   "outputs": [
    {
     "data": {
      "text/html": [
       "<div>\n",
       "<style scoped>\n",
       "    .dataframe tbody tr th:only-of-type {\n",
       "        vertical-align: middle;\n",
       "    }\n",
       "\n",
       "    .dataframe tbody tr th {\n",
       "        vertical-align: top;\n",
       "    }\n",
       "\n",
       "    .dataframe thead th {\n",
       "        text-align: right;\n",
       "    }\n",
       "</style>\n",
       "<table border=\"1\" class=\"dataframe\">\n",
       "  <thead>\n",
       "    <tr style=\"text-align: right;\">\n",
       "      <th></th>\n",
       "      <th>PURCHASED_DESTINATION</th>\n",
       "      <th>HOTELS_TO_RECOMMEND</th>\n",
       "      <th>SCORE</th>\n",
       "    </tr>\n",
       "  </thead>\n",
       "  <tbody>\n",
       "    <tr>\n",
       "      <th>0</th>\n",
       "      <td>Salta capital</td>\n",
       "      <td>Posada Santana</td>\n",
       "      <td>4</td>\n",
       "    </tr>\n",
       "    <tr>\n",
       "      <th>1</th>\n",
       "      <td>Rio do Janeiro</td>\n",
       "      <td>Hakuna Matata Hotel Bar</td>\n",
       "      <td>3</td>\n",
       "    </tr>\n",
       "    <tr>\n",
       "      <th>2</th>\n",
       "      <td>Rio do Janeiro</td>\n",
       "      <td>Rio See Resort</td>\n",
       "      <td>2</td>\n",
       "    </tr>\n",
       "    <tr>\n",
       "      <th>3</th>\n",
       "      <td>Miami</td>\n",
       "      <td>See Palace Resort</td>\n",
       "      <td>1</td>\n",
       "    </tr>\n",
       "    <tr>\n",
       "      <th>4</th>\n",
       "      <td>Rio do Janeiro</td>\n",
       "      <td>Pipa Hotel</td>\n",
       "      <td>1</td>\n",
       "    </tr>\n",
       "  </tbody>\n",
       "</table>\n",
       "</div>"
      ],
      "text/plain": [
       "  PURCHASED_DESTINATION      HOTELS_TO_RECOMMEND  SCORE\n",
       "0         Salta capital           Posada Santana      4\n",
       "1        Rio do Janeiro  Hakuna Matata Hotel Bar      3\n",
       "2        Rio do Janeiro           Rio See Resort      2\n",
       "3                 Miami        See Palace Resort      1\n",
       "4        Rio do Janeiro               Pipa Hotel      1"
      ]
     },
     "execution_count": 74,
     "metadata": {},
     "output_type": "execute_result"
    }
   ],
   "source": [
    "def hotel_recomendations_by_flight_destination_for_purchaser_user(email, time_window):\n",
    "    query = \"\"\"\n",
    "        MATCH\n",
    "          (u:User {email: '%s'})\n",
    "\n",
    "            -[up:PURCHASE]->(:FlightReservation)\n",
    "            -[:TO_LOCATION]->\n",
    "\n",
    "          (c:City)\n",
    "\n",
    "              <-[:LOCATED_IN]-(h:Hotel)\n",
    "              <-[:TO_STAY_IN]-(hr:HotelReservation)\n",
    "              <-[op:PURCHASE]-\n",
    "\n",
    "          (ou:User)\n",
    "                WHERE\n",
    "                    ou <> u\n",
    "                    AND up.datetime >= (datetime() - duration('P%sD')) \n",
    "                    AND op.datetime >= (datetime() - duration('P%sD'))\n",
    "                WITH\n",
    "                    c.name as purchased_destination,\n",
    "                    h.name as hotels_to_recommend,\n",
    "                    REDUCE (sc=0, c in COLLECT(h) | sc+1 ) AS score\n",
    "                RETURN\n",
    "                    purchased_destination,\n",
    "                    hotels_to_recommend,\n",
    "                    score\n",
    "                ORDER BY\n",
    "                    score DESC\n",
    "                LIMIT 5\n",
    "    \"\"\" % (email, time_window, time_window)\n",
    "\n",
    "    return client.query(lambda tx: to_table(tx.run(query), columns=['purchased_destination', 'hotels_to_recommend', 'score']))\n",
    "\n",
    "\n",
    "hotel_recomendations_by_flight_destination_for_purchaser_user(\n",
    "    email=\"adrian.marino@almundo.com\",\n",
    "    time_window = 60  # In days\n",
    ")"
   ]
  },
  {
   "cell_type": "markdown",
   "metadata": {},
   "source": [
    "#### 6. Recommend flights airlines to users who bought hotels for a given destination"
   ]
  },
  {
   "cell_type": "code",
   "execution_count": 75,
   "metadata": {},
   "outputs": [
    {
     "data": {
      "text/html": [
       "<div>\n",
       "<style scoped>\n",
       "    .dataframe tbody tr th:only-of-type {\n",
       "        vertical-align: middle;\n",
       "    }\n",
       "\n",
       "    .dataframe tbody tr th {\n",
       "        vertical-align: top;\n",
       "    }\n",
       "\n",
       "    .dataframe thead th {\n",
       "        text-align: right;\n",
       "    }\n",
       "</style>\n",
       "<table border=\"1\" class=\"dataframe\">\n",
       "  <thead>\n",
       "    <tr style=\"text-align: right;\">\n",
       "      <th></th>\n",
       "      <th>PUCHASED_DESTINATION</th>\n",
       "      <th>AIRLINES_TO_RECOMMEND</th>\n",
       "      <th>SCORE</th>\n",
       "    </tr>\n",
       "  </thead>\n",
       "  <tbody>\n",
       "    <tr>\n",
       "      <th>0</th>\n",
       "      <td>Salta capital</td>\n",
       "      <td>LATAM</td>\n",
       "      <td>3</td>\n",
       "    </tr>\n",
       "    <tr>\n",
       "      <th>1</th>\n",
       "      <td>Rio do Janeiro</td>\n",
       "      <td>American Airlines</td>\n",
       "      <td>2</td>\n",
       "    </tr>\n",
       "    <tr>\n",
       "      <th>2</th>\n",
       "      <td>Rio do Janeiro</td>\n",
       "      <td>LATAM</td>\n",
       "      <td>2</td>\n",
       "    </tr>\n",
       "    <tr>\n",
       "      <th>3</th>\n",
       "      <td>Miami</td>\n",
       "      <td>American Airlines</td>\n",
       "      <td>1</td>\n",
       "    </tr>\n",
       "  </tbody>\n",
       "</table>\n",
       "</div>"
      ],
      "text/plain": [
       "  PUCHASED_DESTINATION AIRLINES_TO_RECOMMEND  SCORE\n",
       "0        Salta capital                 LATAM      3\n",
       "1       Rio do Janeiro     American Airlines      2\n",
       "2       Rio do Janeiro                 LATAM      2\n",
       "3                Miami     American Airlines      1"
      ]
     },
     "execution_count": 75,
     "metadata": {},
     "output_type": "execute_result"
    }
   ],
   "source": [
    "def airline_recomendations_by_hotel_destination_for_purchaser_user(email, time_window):\n",
    "    query = \"\"\"\n",
    "        MATCH\n",
    "          (u:User {email: '%s'})\n",
    "            -[up:PURCHASE]->(:HotelReservation)\n",
    "            -[:TO_STAY_IN]->(:Hotel)\n",
    "            -[:LOCATED_IN]->\n",
    "\n",
    "          (c:City)\n",
    "\n",
    "              <-[:TO_LOCATION]-(fr:FlightReservation)\n",
    "              <-[op:PURCHASE]-\n",
    "          (ou:User),\n",
    "            (fr)-[:TO_TRAVEL_WITH]->(a:Airline)\n",
    "                WHERE\n",
    "                    ou <> u\n",
    "                    AND up.datetime >= (datetime() - duration('P%sD')) \n",
    "                    AND op.datetime >= (datetime() - duration('P%sD'))\n",
    "                WITH\n",
    "                    c.name as puchased_destination,\n",
    "                    a.name as airlines_to_recommend,\n",
    "                    REDUCE (sc=0, c in COLLECT(a) | sc+1 ) AS score\n",
    "                RETURN\n",
    "                    puchased_destination,\n",
    "                    airlines_to_recommend,\n",
    "                    score\n",
    "                ORDER BY\n",
    "                    score DESC\n",
    "                LIMIT 5\n",
    "    \"\"\" % (email, time_window, time_window)\n",
    "\n",
    "    return client.query(lambda tx: to_table(tx.run(query), columns=['puchased_destination', 'airlines_to_recommend', 'score']))\n",
    "\n",
    "\n",
    "airline_recomendations_by_hotel_destination_for_purchaser_user(\n",
    "    email=\"adrian.marino@almundo.com\",\n",
    "    time_window = 60  # In days\n",
    ")"
   ]
  },
  {
   "cell_type": "code",
   "execution_count": null,
   "metadata": {},
   "outputs": [],
   "source": []
  }
 ],
 "metadata": {
  "kernelspec": {
   "display_name": "Python 3",
   "language": "python",
   "name": "python3"
  },
  "language_info": {
   "codemirror_mode": {
    "name": "ipython",
    "version": 3
   },
   "file_extension": ".py",
   "mimetype": "text/x-python",
   "name": "python",
   "nbconvert_exporter": "python",
   "pygments_lexer": "ipython3",
   "version": "3.8.3"
  }
 },
 "nbformat": 4,
 "nbformat_minor": 4
}
